{
 "cells": [
  {
   "cell_type": "markdown",
   "metadata": {},
   "source": [
    "# Parcial 2 "
   ]
  },
  {
   "cell_type": "markdown",
   "metadata": {},
   "source": [
    "1.Es posible transformar algorithm en analysis sin usar operaciones “izquierda”. Escriba una secuencia de operaciones (de la misma forma que la tabla de ejemplo) que tenga el mismo costo que el mostrado en el ejemplo pero sin usar operaciones “izquierda”.\n",
    "\n",
    "<img src=\"files/Primerpunto.png\">\n",
    "\n",
    "2.Muestre que para dos cadenas x y y con distancia de edición d(x, y), existe una secuencia S de operaciones que transforman x en y con costo d(x, y) donde S no contiene operaciones “izquierda”.\n",
    "\n",
    "Como se puede ver en el anterior punto, las operaciones se pueden reordenar para ir siempre de izquierda a derecha, esto es, no realizar operaciones de \"izquierda\".\n",
    "Esto es posible eliminando operaciones que generan la utilización de la operación \"izquierda\" que son:\n",
    "- Si un carácter es insertado y luego eliminado\n",
    "- Si un carácter es insertado y luego reemplazado\n",
    "- Si un carácter es reemplazado y se vuelve a reemplazar\n",
    "\n",
    "En el primer caso se podrían eliminar ambas operaciones, en el segundo se debe insertar pero el carácter que se uso para el reemplazo y en el tercero solo sería necesaria la segunda operación de reemplazo\n",
    "\n",
    "3.Muestre que el problema de calcular la distancia de edición d(x, y) presenta una subestructura óptima. (Considere todos los sufijos de x y y)\n",
    "\n",
    "Subestructura óptima:\n",
    "- El costo de cambiar una cadena a otra, es el costo mínimo de cambiar las primeros i carácteres de la primera cadena a los primeros j carácteres de la segunda cadena\n",
    "\n",
    "\\begin{equation*}\n",
    "c_{xy} (i,j)= d [ x (1,i) , y (1,j) ]\n",
    "\\end{equation*}\n",
    "\n",
    "4.Recursivamente defina el valor de la distancia de edición d(x, y) en terminos de los sufijos de las cadenas x y y. Señale como la distancia de edición contiene sobrelapamiento de los subproblemas\n",
    "\\begin{equation}\n",
    "  c_{xy}(i,j)=min \\begin{cases}\n",
    "    0, & \\text{Si i=0 y j=0}.\\\\\n",
    "    c_{xy}(i-1,j-1), & \\text{Si i>0, j>0 y x[i-1]=y[j-1]}.\\\\\n",
    "    c_{xy}(i-1,j-1)+4, & \\text{Si i>0 y j>0}.\\\\\n",
    "    c_{xy}(i-1,j)+2, & \\text{Si i>0}.\\\\\n",
    "    c_{xy}(i,j-1)+3, & \\text{Si j>0}.\n",
    "  \\end{cases}\n",
    "\\end{equation}\n",
    "\n",
    "La distancia de edición contiene sobrelapamiento de los problemas ya que el subproblema $c_{xy} (i-1,j-1)$ es llamado recursivamente por $c_{xy} (i,j)$ , $c_{xy} (i-1,j)$ y $c_{xy} (i,j-1)$ \n",
    "\n",
    "5.Describa un algoritmo de programación dinámica que calcule la distancia de edici´on de x y y. (No use memorización) Análise el tiempo de ejecución y el espacio requeridos por su algoritmo\n",
    "\n",
    "\n",
    "<pre>\n",
    "<b> Sin Memorización</b>\n",
    " x,y -cadenas de carácteres\n",
    " i - longitud de x\n",
    " j - longitud de y\n",
    "\n",
    "\n",
    "distanciaEdicionRecurrncia(x,y,i,j)\n",
    "    if i==0 and j==0\n",
    "        return 0\n",
    "        \n",
    "    igual, reemplazar, eliminar, insertar = &#8734;\n",
    "    \n",
    "    if x[i-1]==y[j-1]\n",
    "        igual=distanciaEdicionRec(x,y,i-1,j-1)\n",
    "    if i>0 and j>0\n",
    "        reemplazo=distanciaEdicionRec(x,y,i-1,j-1)+4\n",
    "    if i>0\n",
    "        eliminar=distanciaEdicionRec(x,y,i-1,j)+2\n",
    "    if j>0\n",
    "        insertar=distanciaEdicionRec(x,y,i,j-1)+3\n",
    "        \n",
    "    return distancia = min(igual,reemplazo,eliminar, insertar)\n",
    "           \n",
    "-----------------------------------------------------------------\n",
    "<b> Con Memorización</b>\n",
    " x,y -cadenas de carácteres\n",
    " n -longitud de x\n",
    " m-longitud de y\n",
    " M -matriz de tamaño nxm\n",
    "\n",
    " for i -> n\n",
    "   for i -> m\n",
    "       if i==0 and j==0\n",
    "            M[i,j]=0\n",
    "        else\n",
    "            igual, reemplazar, eliminar, insertar = &#8734;\n",
    "            if i>0 y j>0 y x[i-1]==y[j-1]\n",
    "                igual=M[i-1,j-1]\n",
    "            if i>0 y j>0\n",
    "                reemplazo=M[i-1,j-1]+4\n",
    "            if i>0\n",
    "                eliminar=M[i-1,j]+2\n",
    "            if j>0\n",
    "                insertar=M[i,j-1]+3\n",
    "            M[i,j]=min(igual,reemplazo,eliminar, insertar)\n",
    "            \n",
    "    distancia = M[n,m]\n",
    "</pre>\n",
    "\n",
    "Tiempo de ejecución y de espacio = O(nm)\n",
    "\n",
    "6.Implemente su algoritmo en Python, y publiquelo en un NoteBook donde lo pruebe para las cadenas: x = software engineering, y = computer science"
   ]
  },
  {
   "cell_type": "markdown",
   "metadata": {},
   "source": [
    "<b> Sin memorización </b>"
   ]
  },
  {
   "cell_type": "code",
   "execution_count": 1,
   "metadata": {
    "collapsed": false
   },
   "outputs": [],
   "source": [
    "def distanciaEdicionRec(x,y,i,j): \n",
    "    if i==0 and j==0:\n",
    "        return 0\n",
    "    \n",
    "    igual=float('inf');\n",
    "    reemplazo=float('inf');\n",
    "    eliminar=float('inf');\n",
    "    insertar=float('inf');\n",
    "\n",
    "    if x[i-1]==y[j-1]:\n",
    "        igual=distanciaEdicionRec(x,y,i-1,j-1)\n",
    "    if i>0 and j>0:\n",
    "        reemplazo=distanciaEdicionRec(x,y,i-1,j-1)+4\n",
    "    if i>0:\n",
    "        eliminar=distanciaEdicionRec(x,y,i-1,j)+2\n",
    "    if j>0:\n",
    "        insertar=distanciaEdicionRec(x,y,i,j-1)+3\n",
    "        \n",
    "    return min(igual,reemplazo,eliminar,insertar)"
   ]
  },
  {
   "cell_type": "code",
   "execution_count": 2,
   "metadata": {
    "collapsed": false
   },
   "outputs": [
    {
     "name": "stdout",
     "output_type": "stream",
     "text": [
      "Resultado:  24\n"
     ]
    }
   ],
   "source": [
    "x='algorithm'\n",
    "y='analysis'\n",
    "lenx=len(x)\n",
    "leny=len(y)\n",
    "\n",
    "print 'Resultado: ',distanciaEdicionRec(x,y,lenx,leny)"
   ]
  },
  {
   "cell_type": "markdown",
   "metadata": {},
   "source": [
    "<b> Con memorización </b>"
   ]
  },
  {
   "cell_type": "code",
   "execution_count": 3,
   "metadata": {
    "collapsed": false
   },
   "outputs": [],
   "source": [
    "import numpy as np\n",
    "def distanciaEdicion(x,y):\n",
    "    n=len(x)+1\n",
    "    m=len(y)+1\n",
    "    s = (n,m)\n",
    "    M=np.zeros(s)\n",
    "    for i in range(n):\n",
    "        for j in range(m):\n",
    "            if i==0 and j==0:\n",
    "                M[i,j]=0\n",
    "            else:\n",
    "                igual=float('inf');\n",
    "                reemplazo=float('inf');\n",
    "                eliminar=float('inf');\n",
    "                insertar=float('inf');\n",
    "                if i>0 and j>0 and x[i-1]==y[j-1]:\n",
    "                    igual=M[i-1,j-1]\n",
    "                if i>0 and j>0:\n",
    "                    reemplazo=M[i-1,j-1]+4\n",
    "                if i>0:\n",
    "                    eliminar=M[i-1,j]+2\n",
    "                if j>0:\n",
    "                    insertar=M[i,j-1]+3\n",
    "                M[i,j]=min(igual,reemplazo,eliminar, insertar)\n",
    "\n",
    "    print 'Resultado: ', int(M[n-1,m-1])"
   ]
  },
  {
   "cell_type": "code",
   "execution_count": 4,
   "metadata": {
    "collapsed": false
   },
   "outputs": [
    {
     "name": "stdout",
     "output_type": "stream",
     "text": [
      "Resultado:  47\n"
     ]
    }
   ],
   "source": [
    "distanciaEdicion('software engineering','computer science')"
   ]
  },
  {
   "cell_type": "code",
   "execution_count": 5,
   "metadata": {
    "collapsed": false
   },
   "outputs": [
    {
     "name": "stdout",
     "output_type": "stream",
     "text": [
      "Resultado:  1816\n"
     ]
    }
   ],
   "source": [
    "x=\"In fairy-tales, witches always wear silly black hats and black cloaks, and they ride on broomsticks.  But this is not a fairy-tale. This is about Real Witches.  The most important thing you should know about Real Witches is this.  Listen very carefully.  Never forget what is coming next.  Real Witches dress in ordinary clothes and look very much like ordinary women. They live in ordinary houses and work in Ordinary Jobs.  That is why they are so hard to catch.  A Real Witch hates children with a red-hot sizzling hatred that is more sizzling and red-hot than any hatred you could possibly imagine.\"\n",
    "y=\"Round about the caldron go; In the poison'd entrails throw.  Toad, that under cold stone, Days and nights has thirty-one; Swelter'd venom sleeping got, Boil thou first i' the charmed pot!  Double, double toil and trouble; Fire burn, and cauldron bubble.  Fillet of a fenny snake, In the caldron boil and bake; Eye of newt, and toe of frog, Wool of bat, and tongue of dog; Adder's fork, and blind-worm's sting, Lizard's leg, and howlet's wing; For a charm of pow'rful trouble, Like a hell-broth boil and bubble.  Double, double toil and trouble; Fire burn, and cauldron bubble.  Scale of dragon, tooth of wolf, Witches' mummy, maw and gulf Of the ravin'd salt-sea shark; Root of hemlock digg'd i' the dark.\"\n",
    "distanciaEdicion(x,y)"
   ]
  },
  {
   "cell_type": "code",
   "execution_count": 6,
   "metadata": {
    "collapsed": false
   },
   "outputs": [
    {
     "name": "stdout",
     "output_type": "stream",
     "text": [
      "Resultado:  1824\n"
     ]
    }
   ],
   "source": [
    "x=\"Macavity, Macavity, there's no one like Macavity, He's broken every  human law, he breaks the law of gravity.  His powers of levitation  would make a fakir stare, And when you reach the scene of crime -  Macavity's not there!  You may seek him in the basement, you may look  up in the air - But I tell you once and once again, Macavity's not there!  Macavity's a ginger cat, he's very tall and thin; You would know him if you saw him, for his eyes are sunken in.  His brow is deeply lined with thought, his head is highly domed; His coat is dusty from neglect, his whiskers are uncombed.  He sways his head from side to side, with movements like a snake; And when you think he's half asleep, he's always wide awake.\"\n",
    "y=\"`Please would you tell me,' said Alice, a little timidly, for she was not quite sure whether it was good manners for her to speak first, `why your cat grins like that?' `It's a Cheshire cat,' said the Duchess, `and that's why. Pig!'  She said the last word with such sudden violence that Alice quite jumped; but she saw in another moment that it was addressed to the baby, and not to her, so she took courage, and went on again:  `I didn't know that Cheshire cats always grinned; in fact, I didn't know that cats could grin.'  `They all can,' said the Duchess; `and most of 'em do.'  `I don't know of any that do,' Alice said very politely, feeling quite pleased to have got into a conversation.\"\n",
    "distanciaEdicion(x,y)"
   ]
  },
  {
   "cell_type": "code",
   "execution_count": 7,
   "metadata": {
    "collapsed": false
   },
   "outputs": [
    {
     "name": "stdout",
     "output_type": "stream",
     "text": [
      "Resultado:  1829\n"
     ]
    }
   ],
   "source": [
    "x=\"Old MacDonald had a farm, Ee i ee i o.  And on his farm he had some chicks, Ee i ee i o.  With a cluck-cluck here and a cluck-cluck there.  Here a cluck, there a cluck everywhere a cluck-cluck. Old MacDonald had a farm, Ee i ee i o.  Old MacDonald had a farm, Ee i ee i o.  And on his farm he had some cows, Ee i ee i o.  With a moo-moo here and a moo-moo there.  Here a moo, there a moo everywhere a moo-moo.  Old MacDonald had a farm, Ee i ee i o.\"\n",
    "y=\"At one end of the big barn, on a sort of raised platform, Major was already ensconced on his bed of straw, under a lantern which hung from a beam. He was twelve years old and had lately grown rather stout, but he was still a majestic-looking pig, with a wise and benevolent appearance in spite of the fact that his tushes had never been cut.  Before long the other animals began to arrive and make themselves comfortable after their different fashions.  First came the three dogs, Bluebell, Jessie, and Pincher, and then the pigs, who settled down in the straw immediately in front of the platform.  The hens perched themselves on the window-sills, the pigeons fluttered up to the rafters, the sheep and cows lay down behind the pigs and began to chew the cud.\"\n",
    "distanciaEdicion(x,y)"
   ]
  }
 ],
 "metadata": {
  "anaconda-cloud": {},
  "kernelspec": {
   "display_name": "Python [default]",
   "language": "python",
   "name": "python2"
  },
  "language_info": {
   "codemirror_mode": {
    "name": "ipython",
    "version": 2
   },
   "file_extension": ".py",
   "mimetype": "text/x-python",
   "name": "python",
   "nbconvert_exporter": "python",
   "pygments_lexer": "ipython2",
   "version": "2.7.12"
  }
 },
 "nbformat": 4,
 "nbformat_minor": 1
}
