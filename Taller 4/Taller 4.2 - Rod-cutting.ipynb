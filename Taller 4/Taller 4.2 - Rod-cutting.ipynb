{
 "cells": [
  {
   "cell_type": "code",
   "execution_count": 9,
   "metadata": {
    "collapsed": true
   },
   "outputs": [],
   "source": [
    "import math\n",
    "import numpy as np\n",
    "import pylab as pl\n",
    "%matplotlib inline"
   ]
  },
  {
   "cell_type": "code",
   "execution_count": 2,
   "metadata": {
    "collapsed": true
   },
   "outputs": [],
   "source": [
    "# ![title](images/pre-image.png)(Honeine and Richard,2011)"
   ]
  },
  {
   "cell_type": "markdown",
   "metadata": {},
   "source": [
    "<h2>Subestructura óptima</h2>\n",
    "Recompensa:\n",
    "$$r_i = \\max_{1\\leq i\\leq n}(p_i+r_{n-i})$$"
   ]
  },
  {
   "cell_type": "markdown",
   "metadata": {},
   "source": [
    "Implementación simple de arriba hacia abajo (top-down)"
   ]
  },
  {
   "cell_type": "code",
   "execution_count": 3,
   "metadata": {
    "collapsed": true
   },
   "outputs": [],
   "source": [
    "def cut_rodR(p, n):\n",
    "    if n==0:\n",
    "        return 0\n",
    "    q = float('-inf')\n",
    "    for i in range(n):\n",
    "        #print i\n",
    "        q = max(q, p[i] + cut_rodR(p, n-1-i))\n",
    "    return q"
   ]
  },
  {
   "cell_type": "code",
   "execution_count": 4,
   "metadata": {
    "collapsed": true
   },
   "outputs": [],
   "source": [
    "p = [1,5,8,9,10,17,17,20,24,30,31,35,38,39,40,47,47,50,54,60,61,65,68,69,70,77,77,80,84,90,91,95,98,99,100,107,107,110,114,120,121,125,128,129,130,137,137,140,144,150]"
   ]
  },
  {
   "cell_type": "code",
   "execution_count": 5,
   "metadata": {
    "collapsed": false
   },
   "outputs": [
    {
     "name": "stdout",
     "output_type": "stream",
     "text": [
      "22\n"
     ]
    }
   ],
   "source": [
    "sol = cut_rodR(p,8)\n",
    "print (sol)"
   ]
  },
  {
   "cell_type": "code",
   "execution_count": 13,
   "metadata": {
    "collapsed": true
   },
   "outputs": [],
   "source": [
    "import time\n",
    "tic = time.clock()#get start time\n",
    "toc = time.clock()#get final time\n",
    "def timer_analysis1(p,n):\n",
    "    results = []\n",
    "    for i in range(1,n):\n",
    "        tic = time.clock()\n",
    "        cut_rodR(p,i)\n",
    "        toc = time.clock()\n",
    "        results.append((toc-tic))\n",
    "    return results"
   ]
  },
  {
   "cell_type": "code",
   "execution_count": 10,
   "metadata": {
    "collapsed": false
   },
   "outputs": [
    {
     "data": {
      "image/png": "[encoded data removed]",
      "text/plain": [
       "<matplotlib.figure.Figure at 0x284dbd8de10>"
      ]
     },
     "metadata": {},
     "output_type": "display_data"
    }
   ],
   "source": [
    "import pylab \n",
    "import math\n",
    "pylab.clf()\n",
    "i=25\n",
    "x = np.arange(i)\n",
    "y = np.array(timer_analysis1(p,i))\n",
    "\n",
    "pylab.plot(x, y, 'r--')\n",
    "pylab.show()"
   ]
  },
  {
   "cell_type": "markdown",
   "metadata": {},
   "source": [
    "$$T(n) = 2^n$$"
   ]
  },
  {
   "cell_type": "markdown",
   "metadata": {
    "collapsed": true
   },
   "source": [
    "Implementación de arriba hacia abajo con memorización (memoization)"
   ]
  },
  {
   "cell_type": "code",
   "execution_count": 12,
   "metadata": {
    "collapsed": false
   },
   "outputs": [],
   "source": [
    "def memo_cut_rodTD(p, n):\n",
    "    r = [-1] * (n+1)\n",
    "    return memo_cut_rodTD_aux(p,n,r)\n",
    "\n",
    "def memo_cut_rodTD_aux(p,n,r):\n",
    "    if r[n] >= 0:\n",
    "        return r[n]\n",
    "    if n == 0:\n",
    "        q = 0\n",
    "    else:\n",
    "        q = float('-inf')\n",
    "        for i in range(1,n+1):\n",
    "            q = max(q, p[i-1]+memo_cut_rodTD_aux(p,n-i,r))\n",
    "            \n",
    "    r[n]=q\n",
    "    return q"
   ]
  },
  {
   "cell_type": "code",
   "execution_count": 13,
   "metadata": {
    "collapsed": false
   },
   "outputs": [
    {
     "name": "stdout",
     "output_type": "stream",
     "text": [
      "30\n"
     ]
    }
   ],
   "source": [
    "sol = memo_cut_rodTD(p,10)\n",
    "print (sol)"
   ]
  },
  {
   "cell_type": "code",
   "execution_count": 14,
   "metadata": {
    "collapsed": true
   },
   "outputs": [],
   "source": [
    "import time\n",
    "tic = time.clock()#get start time\n",
    "toc = time.clock()#get final time\n",
    "def timer_analysis2(p,n):\n",
    "    results = []\n",
    "    for i in range(1,n):\n",
    "        tic = time.clock()\n",
    "        memo_cut_rodTD(p,i)\n",
    "        toc = time.clock()\n",
    "        results.append((toc-tic))\n",
    "    return results"
   ]
  },
  {
   "cell_type": "markdown",
   "metadata": {},
   "source": [
    "Implementación abajo hacia arriba (bottom-up) con memorización"
   ]
  },
  {
   "cell_type": "code",
   "execution_count": 5,
   "metadata": {
    "collapsed": true
   },
   "outputs": [],
   "source": [
    "p = [1,5,8,9,10,17,17,20,24,30,31,35,38,39,40,47,47,50,54,60,61,65,68,69,70,77,77,80,84,90,91,95,98,99,100,107,107,110,114,120,121,125,128,129,130,137,137,140,144,150]\n",
    "n = 4"
   ]
  },
  {
   "cell_type": "code",
   "execution_count": 6,
   "metadata": {
    "collapsed": false
   },
   "outputs": [],
   "source": [
    "global arr\n",
    "global r\n",
    "def memo_cut_rodBU(p,n):\n",
    "    global arr\n",
    "    global r\n",
    "   \n",
    "    r[0] = 0\n",
    "    for j in range(1,n+1):\n",
    "        q = float('-inf')\n",
    "        izq=p[j+1]\n",
    "        der=p[j+1]\n",
    "        for i in range(1,j+1): \n",
    "            \n",
    "            if p[i-1]+r[j-i]>q:\n",
    "                q = p[i-1]+r[j-i]\n",
    "                \n",
    "                izq=i-1\n",
    "                der=j-i-1\n",
    "                \n",
    "        arr[0,j]=izq\n",
    "        arr[1,j]=der\n",
    "        r[j] = q\n",
    "        \n",
    "\n",
    "   \n",
    "    return r[n]\n",
    "\n",
    "def funcion(p,n):\n",
    "    global arr\n",
    "    global r\n",
    "    r = [0] * (n+1)\n",
    "    arr=np.zeros((2,n+1))\n",
    "    print('solucion: ',memo_cut_rodBU(p,n))\n",
    "\n",
    "   \n",
    "    x=arr[0,n]\n",
    "    y=arr[1,n]\n",
    "    '''arr=arr[:,1:]'''\n",
    "    print('tam - total')\n",
    "    rec(arr,int(x),int(y),n,r)\n",
    "\n"
   ]
  },
  {
   "cell_type": "markdown",
   "metadata": {},
   "source": [
    "Reconstruir los tamaños"
   ]
  },
  {
   "cell_type": "code",
   "execution_count": 11,
   "metadata": {
    "collapsed": false
   },
   "outputs": [],
   "source": [
    "def rec(arr,a,b,n,r):\n",
    "    \n",
    "    if a==-1 and b!=-1:\n",
    "        print (int(b)+1,'  -  ',r[int(b)+1])\n",
    "        return \n",
    "    if a!=-1 and b==-1:\n",
    "        print (int(a)+1,'  -  ',r[int(a)+1])\n",
    "        return \n",
    "    else:\n",
    "        m=int(arr[0,a+1])\n",
    "        j=int(arr[1,a+1])\n",
    "        rec(arr,m,j,n,r)\n",
    "        x=int(arr[0,b+1])\n",
    "        y=int(arr[1,b+1])\n",
    "        rec(arr,x,y,n,r)"
   ]
  },
  {
   "cell_type": "code",
   "execution_count": 12,
   "metadata": {
    "collapsed": false
   },
   "outputs": [
    {
     "name": "stdout",
     "output_type": "stream",
     "text": [
      "solucion:  18\n",
      "tam - total\n",
      "1   -   1\n",
      "6   -   17\n"
     ]
    }
   ],
   "source": [
    "sol = funcion(p,7)"
   ]
  },
  {
   "cell_type": "code",
   "execution_count": 35,
   "metadata": {
    "collapsed": true
   },
   "outputs": [],
   "source": [
    "import time\n",
    "tic = time.clock()#get start time\n",
    "toc = time.clock()#get final time\n",
    "def timer_analysis3(p,n):\n",
    "    results = []\n",
    "    for i in range(1,n):\n",
    "        tic = time.clock()\n",
    "        funcion(p,i)\n",
    "        toc = time.clock()\n",
    "        results.append((toc-tic))\n",
    "    return results"
   ]
  },
  {
   "cell_type": "code",
   "execution_count": 43,
   "metadata": {
    "collapsed": false
   },
   "outputs": [
    {
     "name": "stdout",
     "output_type": "stream",
     "text": [
      "solucion:  0\n",
      "tam - total\n",
      "solucion:  1\n",
      "tam - total\n",
      "solucion:  5\n",
      "tam - total\n",
      "2   -   5\n",
      "solucion:  8\n",
      "tam - total\n",
      "3   -   8\n",
      "solucion:  10\n",
      "tam - total\n",
      "2   -   5\n",
      "2   -   5\n",
      "solucion:  13\n",
      "tam - total\n",
      "2   -   5\n",
      "3   -   8\n",
      "solucion:  17\n",
      "tam - total\n",
      "6   -   17\n",
      "solucion:  18\n",
      "tam - total\n",
      "solucion:  22\n",
      "tam - total\n",
      "2   -   5\n",
      "6   -   17\n",
      "solucion:  25\n",
      "tam - total\n",
      "3   -   8\n",
      "6   -   17\n",
      "solucion:  30\n",
      "tam - total\n",
      "10   -   30\n",
      "solucion:  31\n",
      "tam - total\n",
      "solucion:  35\n",
      "tam - total\n",
      "2   -   5\n",
      "10   -   30\n",
      "solucion:  38\n",
      "tam - total\n",
      "3   -   8\n",
      "10   -   30\n",
      "solucion:  40\n",
      "tam - total\n",
      "2   -   5\n",
      "2   -   5\n",
      "10   -   30\n"
     ]
    },
    {
     "data": {
      "image/png": "[encoded data removed]",
      "text/plain": [
       "<matplotlib.figure.Figure at 0x284dd2ee6d8>"
      ]
     },
     "metadata": {},
     "output_type": "display_data"
    }
   ],
   "source": [
    "import pylab \n",
    "import math\n",
    "pylab.clf()\n",
    "i=15\n",
    "x = np.arange(1,i)\n",
    "y = np.array(timer_analysis1(p,i))\n",
    "\n",
    "a = np.arange(1,i)\n",
    "b = np.array(timer_analysis2(p,i))\n",
    "\n",
    "c = np.arange(1,i)\n",
    "d = np.array(timer_analysis3(p,i))\n",
    "\n",
    "pylab.plot(x, y, 'r--',a,b,'b--',c,d,'k--')\n",
    "pylab.show()"
   ]
  },
  {
   "cell_type": "code",
   "execution_count": null,
   "metadata": {
    "collapsed": true
   },
   "outputs": [],
   "source": []
  }
 ],
 "metadata": {
  "anaconda-cloud": {},
  "kernelspec": {
   "display_name": "Python [default]",
   "language": "python",
   "name": "python3"
  },
  "language_info": {
   "codemirror_mode": {
    "name": "ipython",
    "version": 3
   },
   "file_extension": ".py",
   "mimetype": "text/x-python",
   "name": "python",
   "nbconvert_exporter": "python",
   "pygments_lexer": "ipython3",
   "version": "3.5.2"
  }
 },
 "nbformat": 4,
 "nbformat_minor": 0
}
