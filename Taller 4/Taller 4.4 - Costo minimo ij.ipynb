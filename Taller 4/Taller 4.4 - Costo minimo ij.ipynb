{
 "cells": [
  {
   "cell_type": "code",
   "execution_count": 161,
   "metadata": {
    "collapsed": false
   },
   "outputs": [],
   "source": [
    "import numpy as np\n",
    "global C\n",
    "def embarca(A,inicio,fin):\n",
    "    global C\n",
    "    tam=fin-inicio    \n",
    "    if tam==1:\n",
    "        C[inicio,fin]=A[inicio,fin]\n",
    "        return C[inicio][fin]\n",
    "    if C[inicio][fin]==-1:\n",
    "        actual=A[inicio,fin]\n",
    "        for i in range(inicio+1,fin,1):\n",
    "            val=embarca(A,inicio,i)+embarca(A,i,fin)\n",
    "            if val<actual:\n",
    "                actual=val\n",
    "        C[inicio][fin]=actual\n",
    "    return C[inicio,fin]\n",
    "\n",
    "def main(A,tam):\n",
    "    global C\n",
    "    C=np.ones((tam,tam))*-1\n",
    "    embarca(A,0,tam-1)\n",
    "    print(C)"
   ]
  },
  {
   "cell_type": "code",
   "execution_count": 162,
   "metadata": {
    "collapsed": false
   },
   "outputs": [
    {
     "name": "stdout",
     "output_type": "stream",
     "text": [
      "[[ 0  1  5 10 15]\n",
      " [-1  0  2  4 20]\n",
      " [-1 -1  0  3 30]\n",
      " [-1 -1 -1  0  5]\n",
      " [-1 -1 -1 -1  0]]\n",
      "[[ -1.   1.   3.   5.  10.]\n",
      " [ -1.  -1.   2.   4.   9.]\n",
      " [ -1.  -1.  -1.   3.   8.]\n",
      " [ -1.  -1.  -1.  -1.   5.]\n",
      " [ -1.  -1.  -1.  -1.  -1.]]\n"
     ]
    }
   ],
   "source": [
    "A=np.matrix([[0,1,5,10,15],[-1,0,2,4,20],[-1,-1,0,3,30],[-1,-1,-1,0,5],[-1,-1,-1,-1,0]])\n",
    "print (A)\n",
    "main(A,5)"
   ]
  },
  {
   "cell_type": "code",
   "execution_count": null,
   "metadata": {
    "collapsed": true
   },
   "outputs": [],
   "source": []
  }
 ],
 "metadata": {
  "anaconda-cloud": {},
  "kernelspec": {
   "display_name": "Python [default]",
   "language": "python",
   "name": "python3"
  },
  "language_info": {
   "codemirror_mode": {
    "name": "ipython",
    "version": 3
   },
   "file_extension": ".py",
   "mimetype": "text/x-python",
   "name": "python",
   "nbconvert_exporter": "python",
   "pygments_lexer": "ipython3",
   "version": "3.5.2"
  }
 },
 "nbformat": 4,
 "nbformat_minor": 1
}
