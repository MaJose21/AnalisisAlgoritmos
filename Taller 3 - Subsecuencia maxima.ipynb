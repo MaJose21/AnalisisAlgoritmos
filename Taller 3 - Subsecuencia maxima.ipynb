{
 "cells": [
  {
   "cell_type": "markdown",
   "metadata": {},
   "source": [
    "# Taller 3:\n",
    "La subsecuencia de suma máxima\n",
    "Dados n enteros a_1,a_2,...,a_n, necesitamos encontrar el valor de la expresión:\n",
    "max_{1≤ i≤ j ≤n}{\\sum_{k=i}^ja_k}\n",
    "que calcula el máximo de las sumas parciales de elementos consecutivos. e.g, dados los 6 enteros (–2,11,–4,13,–5,–2) la solución al problema es 20 (suma de a_2 hasta a_4)."
   ]
  },
  {
   "cell_type": "markdown",
   "metadata": {},
   "source": [
    "# 1. Algoritmo trivial O(n^2)"
   ]
  },
  {
   "cell_type": "code",
   "execution_count": 1,
   "metadata": {
    "collapsed": false
   },
   "outputs": [],
   "source": [
    "def sum_max(A):\n",
    "    tam=len(A)\n",
    "    max_sum=0\n",
    "    j=0\n",
    "    for i in range(tam):\n",
    "        suma=0\n",
    "        for j in range(tam-i):\n",
    "            suma+=A[j+i]\n",
    "            if suma>max_sum:\n",
    "                max_sum=suma      \n",
    "    print (max_sum)"
   ]
  },
  {
   "cell_type": "code",
   "execution_count": 2,
   "metadata": {
    "collapsed": false
   },
   "outputs": [
    {
     "name": "stdout",
     "output_type": "stream",
     "text": [
      "20\n"
     ]
    }
   ],
   "source": [
    "A=[-2,11,-4,13,-5,-2]\n",
    "sum_max(A)"
   ]
  },
  {
   "cell_type": "markdown",
   "metadata": {},
   "source": [
    "# 2. Algoritmo dividir y conquistar para solucionar el problema en tiempo O(n\\log n)"
   ]
  },
  {
   "cell_type": "code",
   "execution_count": 3,
   "metadata": {
    "collapsed": false
   },
   "outputs": [],
   "source": [
    "def sum_dc(alist, inicio,fin):\n",
    "\n",
    "    if fin<=inicio:\n",
    "        return alist[inicio]\n",
    "    else:\n",
    "        mid = (inicio+fin)//2\n",
    "        a=sum_dc(alist,inicio,mid)\n",
    "        b=sum_dc(alist,mid+1,fin)\n",
    "        vl=-100\n",
    "        s=0\n",
    "        for i in range(mid,inicio-1,-1):\n",
    "            s+=alist[i]\n",
    "            if s>vl:\n",
    "                vl=s\n",
    "        vr=-100\n",
    "        s=0\n",
    "        for i in range(fin-mid):\n",
    "            s=s+alist[i+mid+1]\n",
    "            if s>vr:\n",
    "                vr=s\n",
    "\n",
    "        c=(vl+vr);\n",
    "        \n",
    "        if a>=b and a>=c:\n",
    "            return a\n",
    "        else:\n",
    "            if b>=a and b>=c:\n",
    "                return b\n",
    "            else:\n",
    "                return c\n"
   ]
  },
  {
   "cell_type": "code",
   "execution_count": 4,
   "metadata": {
    "collapsed": false
   },
   "outputs": [
    {
     "name": "stdout",
     "output_type": "stream",
     "text": [
      "11\n"
     ]
    }
   ],
   "source": [
    "A=[-2,11,-4,1,-5,-2]\n",
    "print (sum_dc(A,0,len(A)-1))"
   ]
  },
  {
   "cell_type": "markdown",
   "metadata": {},
   "source": [
    "# 3. Algoritmo (J.L. Bentley, 1989.)"
   ]
  },
  {
   "cell_type": "code",
   "execution_count": 5,
   "metadata": {
    "collapsed": false
   },
   "outputs": [],
   "source": [
    "def Sumamax3(A,inicio,fin):\n",
    "    if inicio>fin:\n",
    "        return 0\n",
    "    if inicio==fin:\n",
    "        return Max2(0,A[inicio])\n",
    "    mitad=(inicio+fin)//2\n",
    "    \n",
    "    max_aux=Max2(Sumamax3(A,inicio,mitad),Sumamax3(A,mitad+1,fin))\n",
    "    \n",
    "    max_izq=0;\n",
    "    suma=0\n",
    "    for i in range(mitad,inicio-1,-1):\n",
    "        suma+=A[i]\n",
    "        max_izq=Max2(max_izq,suma)\n",
    "    \n",
    "    max_der=0\n",
    "    suma=0\n",
    "    for i in range(fin-mitad):\n",
    "        suma+=A[i+mitad+1]\n",
    "        max_der=Max2(max_der,suma)\n",
    "        \n",
    "    return Max2(max_der+max_izq,max_aux)\n",
    "\n",
    "def Max2(a,b):\n",
    "    if a<b:\n",
    "        return b\n",
    "    else:\n",
    "        return a"
   ]
  },
  {
   "cell_type": "code",
   "execution_count": 6,
   "metadata": {
    "collapsed": false
   },
   "outputs": [
    {
     "name": "stdout",
     "output_type": "stream",
     "text": [
      "20\n"
     ]
    }
   ],
   "source": [
    "A=[-2,11,-4,13,-5,-2]\n",
    "print (Sumamax3(A,0,len(A)-1))"
   ]
  }
 ],
 "metadata": {
  "anaconda-cloud": {},
  "kernelspec": {
   "display_name": "Python [default]",
   "language": "python",
   "name": "python3"
  },
  "language_info": {
   "codemirror_mode": {
    "name": "ipython",
    "version": 3
   },
   "file_extension": ".py",
   "mimetype": "text/x-python",
   "name": "python",
   "nbconvert_exporter": "python",
   "pygments_lexer": "ipython3",
   "version": "3.5.2"
  }
 },
 "nbformat": 4,
 "nbformat_minor": 1
}
