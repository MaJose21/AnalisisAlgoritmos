{
 "cells": [
  {
   "cell_type": "markdown",
   "metadata": {},
   "source": [
    "# Todos los pares de rutas más cortas\n",
    "\n",
    "Dado un grafo $G(V,E)$, con una función de peso $\\omega : E \\rightarrow \\mathbb{R}$"
   ]
  },
  {
   "cell_type": "markdown",
   "metadata": {},
   "source": [
    "$W$ es una matriz de $n\\times n$ ($|V|=n$) que representa los pesos de las aristas del grafo $G$. $W=(w_{ij})$, donde\n",
    "$$\n",
    "w_{ij}= \n",
    "\\begin{cases}\n",
    "    0 & \\text{si } i = j\\\\\n",
    "    \\omega(i,j) & \\text{si } i \\neq j \\text{ y }(i,j)\\in E\\\\\n",
    "    \\infty & \\text{si } i \\neq j \\text{ y }(i,j)\\in E\\\\\n",
    "\\end{cases}\n",
    "$$"
   ]
  },
  {
   "cell_type": "markdown",
   "metadata": {},
   "source": [
    "# Algoritmo de Floyd-Warshall"
   ]
  },
  {
   "cell_type": "code",
   "execution_count": 1,
   "metadata": {
    "collapsed": false
   },
   "outputs": [],
   "source": [
    "import numpy as np"
   ]
  },
  {
   "cell_type": "code",
   "execution_count": 2,
   "metadata": {
    "collapsed": true
   },
   "outputs": [],
   "source": [
    "def FloydWarshall(W):\n",
    "    n = W.shape[0]\n",
    "    D_list = []#Save each D^{(k)} matrix\n",
    "    D_list.append(W[:,:])#D^{(0)}\n",
    "    D_k=[]\n",
    "    for k in range(n):        \n",
    "        D_k = D_list[k][:,:]\n",
    "        for i in range(n):\n",
    "            for j in range(n):\n",
    "                D_k[i,j] = min(D_list[k][i,j], D_list[k][i,k]+D_list[k][k,j])        \n",
    "        D_list.append(np.copy(D_k))\n",
    "    return D_k, D_list"
   ]
  },
  {
   "cell_type": "code",
   "execution_count": 3,
   "metadata": {
    "collapsed": false
   },
   "outputs": [
    {
     "name": "stdout",
     "output_type": "stream",
     "text": [
      "[[  0.   3.   8.  inf  -4.]\n",
      " [ inf   0.  inf   1.   7.]\n",
      " [ inf   4.   0.  inf  inf]\n",
      " [  2.  inf  -5.   0.  inf]\n",
      " [ inf  inf  inf   6.   0.]]\n"
     ]
    }
   ],
   "source": [
    "W = np.matrix(\n",
    "    [[0., 3., 8., float('inf'), -4.],\n",
    "     [float('inf'), 0., float('inf'), 1., 7.],\n",
    "     [float('inf'), 4., 0., float('inf'), float('inf')],\n",
    "     [2, float('inf'), -5., 0., float('inf')],\n",
    "     [float('inf'), float('inf'), float('inf'), 6., 0.],\n",
    "    ]\n",
    ")\n",
    "print (W)"
   ]
  },
  {
   "cell_type": "code",
   "execution_count": 4,
   "metadata": {
    "collapsed": false
   },
   "outputs": [],
   "source": [
    "D_n, Ds = FloydWarshall(W)"
   ]
  },
  {
   "cell_type": "code",
   "execution_count": 5,
   "metadata": {
    "collapsed": false
   },
   "outputs": [
    {
     "name": "stdout",
     "output_type": "stream",
     "text": [
      "[[ 0.  1. -3.  2. -4.]\n",
      " [ 3.  0. -4.  1. -1.]\n",
      " [ 7.  4.  0.  5.  3.]\n",
      " [ 2. -1. -5.  0. -2.]\n",
      " [ 8.  5.  1.  6.  0.]]\n"
     ]
    }
   ],
   "source": [
    "print (D_n)"
   ]
  },
  {
   "cell_type": "code",
   "execution_count": 6,
   "metadata": {
    "collapsed": false
   },
   "outputs": [
    {
     "name": "stdout",
     "output_type": "stream",
     "text": [
      "[[  0.   3.   8.  inf  -4.]\n",
      " [ inf   0.  inf   1.   7.]\n",
      " [ inf   4.   0.  inf  inf]\n",
      " [  2.   5.  -5.   0.  -2.]\n",
      " [ inf  inf  inf   6.   0.]]\n",
      "[[  0.   3.   8.   4.  -4.]\n",
      " [ inf   0.  inf   1.   7.]\n",
      " [ inf   4.   0.   5.  11.]\n",
      " [  2.   5.  -5.   0.  -2.]\n",
      " [ inf  inf  inf   6.   0.]]\n",
      "[[  0.   3.   8.   4.  -4.]\n",
      " [ inf   0.  inf   1.   7.]\n",
      " [ inf   4.   0.   5.  11.]\n",
      " [  2.  -1.  -5.   0.  -2.]\n",
      " [ inf  inf  inf   6.   0.]]\n",
      "[[ 0.  3. -1.  4. -4.]\n",
      " [ 3.  0. -4.  1. -1.]\n",
      " [ 7.  4.  0.  5.  3.]\n",
      " [ 2. -1. -5.  0. -2.]\n",
      " [ 8.  5.  1.  6.  0.]]\n",
      "[[ 0.  1. -3.  2. -4.]\n",
      " [ 3.  0. -4.  1. -1.]\n",
      " [ 7.  4.  0.  5.  3.]\n",
      " [ 2. -1. -5.  0. -2.]\n",
      " [ 8.  5.  1.  6.  0.]]\n",
      "[[ 0.  1. -3.  2. -4.]\n",
      " [ 3.  0. -4.  1. -1.]\n",
      " [ 7.  4.  0.  5.  3.]\n",
      " [ 2. -1. -5.  0. -2.]\n",
      " [ 8.  5.  1.  6.  0.]]\n"
     ]
    }
   ],
   "source": [
    "for D in Ds:\n",
    "    print (D)"
   ]
  },
  {
   "cell_type": "markdown",
   "metadata": {},
   "source": [
    "## (SSP) Dijkstra"
   ]
  },
  {
   "cell_type": "code",
   "execution_count": 7,
   "metadata": {
    "collapsed": true
   },
   "outputs": [],
   "source": [
    "from heapq import heappush, heappop\n",
    "\n",
    "def updateheap(heap,d,v):\n",
    "    for i in range(len(heap)):\n",
    "        if heap[i][1] == v:\n",
    "            heap[i][0] = d\n",
    "            fix_minheap(heap,i) # heap=heapify(heap) ineficient      \n",
    "            break    \n",
    "\n",
    "def fix_minheap(heap, i):\n",
    "    if i == 0: return  \n",
    "    p = int(i/2) #parent  \n",
    "    if p >= 0 and heap[p][0] > heap[i][0]:\n",
    "        heap[i], heap[p] = heap[p], heap[i]\n",
    "        fix_minheap(heap,p)   \n",
    "            \n",
    "def Dijkstra(G,start):\n",
    "        \n",
    "    D = {} # dictionary of final distances\n",
    "    for v in G:\n",
    "        D[v] = float('inf')\n",
    "    D[start] = 0\n",
    "    \n",
    "    P = {} # dictionary of predecessors\n",
    "    \n",
    "    Q=[] #  priority queue est.dist. of non-final vert.\n",
    "    for v in G:\n",
    "        item = []\n",
    "        item.append(D[v])\n",
    "        item.append(v)\n",
    "        heappush(Q,item)\n",
    "    \n",
    "    \n",
    "    #S = []\n",
    "    while Q:\n",
    "        u = heappop(Q)[1]\n",
    "        #S.append(u)\n",
    "        for v in G[u]:\n",
    "            newDuv = D[u] + G[u][v]\n",
    "            if newDuv < D[v]:\n",
    "                P[v] = u\n",
    "                D[v] = newDuv\n",
    "                updateheap(Q,D[v],v)\n",
    "    return D,P"
   ]
  },
  {
   "cell_type": "code",
   "execution_count": 8,
   "metadata": {
    "collapsed": false
   },
   "outputs": [],
   "source": [
    "# From  http://www.ics.uci.edu/~eppstein/161/python/dijkstra.py\n",
    "# David Eppstein, UC Irvine, 4 April 2002\n",
    "def shortestPath(G,start,end,method):\n",
    "    \"\"\"\n",
    "    Find a single shortest path from the given start vertex to the given end vertex.\n",
    "    The input has the same conventions as Dijkstra().\n",
    "    The output is a list of the vertices in order along the shortest path.\n",
    "     \"\"\"\n",
    "    if method ==  'Dijkstra':\n",
    "        D,P = Dijkstra(G,start)\n",
    "    elif method == 'Bellman':\n",
    "        D,P = BellmanFord(G,start)\n",
    "    else:\n",
    "        D,P = Dijkstra(G,start)\n",
    "    \n",
    "    Path = []\n",
    "    while 1:\n",
    "        Path.append(end)\n",
    "        if end == start: break\n",
    "        end = P[end]\n",
    "    Path.reverse()\n",
    "    return Path\n"
   ]
  },
  {
   "cell_type": "code",
   "execution_count": 9,
   "metadata": {
    "collapsed": false
   },
   "outputs": [
    {
     "name": "stdout",
     "output_type": "stream",
     "text": [
      "({'s': 0, 'v': 9, 'x': 5, 'u': 8, 'y': 7}, {'v': 'u', 'x': 's', 'u': 'x', 'y': 'x'})\n",
      "['s', 'x', 'u', 'v']\n"
     ]
    }
   ],
   "source": [
    "# example, CLR p.528\n",
    "G = {'s': {'u':10, 'x':5},\n",
    "    'u': {'v':1, 'x':2},\n",
    "    'v': {'y':4},\n",
    "    'x':{'u':3,'v':9,'y':2},\n",
    "    'y':{'s':7,'v':6}}\n",
    "\n",
    "print(Dijkstra(G,'s'))\n",
    "print(shortestPath(G,'s','v','Dijkstra'))"
   ]
  },
  {
   "cell_type": "markdown",
   "metadata": {},
   "source": [
    "# (SSP) - Bellman-Ford"
   ]
  },
  {
   "cell_type": "code",
   "execution_count": 10,
   "metadata": {
    "collapsed": true
   },
   "outputs": [],
   "source": [
    "def BellmanFord(G,start):\n",
    "    \n",
    "    D = {} # dictionary of final distances\n",
    "    for v in G:\n",
    "        D[v] = float('inf')\n",
    "    D[start] = 0\n",
    "    \n",
    "    P = {} # dictionary of predecessors\n",
    "    \n",
    "    for i in range(len(G)-1):\n",
    "        for u in G:\n",
    "            for v in G[u]:   \n",
    "                newDv = D[u] + G[u][v]\n",
    "                if newDv < D[v]:\n",
    "                    P[v] = u\n",
    "                    D[v] = newDv\n",
    "    \n",
    "    for u in G:\n",
    "        for v in G[u]:   \n",
    "            newDv = D[u] + G[u][v]\n",
    "            if newDv < D[v]: print(\"Negative cicle\",u,v)\n",
    "                \n",
    "    return D,P\n",
    "\n"
   ]
  },
  {
   "cell_type": "code",
   "execution_count": 11,
   "metadata": {
    "collapsed": false
   },
   "outputs": [
    {
     "name": "stdout",
     "output_type": "stream",
     "text": [
      "({'s': 0, 'v': 9, 'x': 5, 'u': 8, 'y': 7}, {'v': 'u', 'x': 's', 'u': 'x', 'y': 'x'})\n",
      "['s', 'x', 'u', 'v']\n"
     ]
    }
   ],
   "source": [
    "# example, CLR p.528\n",
    "G = {'s': {'u':10, 'x':5},\n",
    "    'u': {'v':1, 'x':2},\n",
    "    'v': {'y':4},\n",
    "    'x':{'u':3,'v':9,'y':2},\n",
    "    'y':{'s':7,'v':6}}\n",
    "\n",
    "print(BellmanFord(G,'s'))\n",
    "print(shortestPath(G,'s','v','Bellman'))\n"
   ]
  },
  {
   "cell_type": "code",
   "execution_count": 12,
   "metadata": {
    "collapsed": false
   },
   "outputs": [
    {
     "name": "stdout",
     "output_type": "stream",
     "text": [
      "Negative cicle x y\n",
      "Negative cicle x u\n",
      "({'s': 0, 'v': 2, 'x': -3, 'u': 1, 'y': 0}, {'v': 'u', 'x': 'u', 'u': 'x', 'y': 'x'})\n"
     ]
    }
   ],
   "source": [
    "#  modified negative cicle w(u,x) = -4\n",
    "G = {'s': {'u':10, 'x':1},\n",
    "    'u': {'v':1, 'x':-4},\n",
    "    'v': {'y':4},\n",
    "    'x':{'u':3,'v':9,'y':2},\n",
    "    'y':{'s':7,'v':6}}\n",
    "\n",
    "print(BellmanFord(G,'s'))"
   ]
  },
  {
   "cell_type": "markdown",
   "metadata": {},
   "source": [
    "<h1>Actividad</h1>\n",
    " <ol>\n",
    "  <li>Implemente un método para crear grafos aleatorios de $n$ vertices, donde con probabilidad $\\psi \\in [0,1]$ definira si exite una arista entre cada par de vertices $(i,j)$. El peso $\\omega(i,j) \\in [minw, maxw]$ se asignará de manera aleatoria uniformemente en el intervalo $[minw, maxw]$</li>\n",
    "  <li>Adapte el algoritmo de Dijkstra para calcular todos los pares de rutas más cortas</li>\n",
    "  <li>Adapte el algoritmo de Bellman-Ford para calcular todos los pares de rutas más cortas</li>\n",
    "  <li>Implemente el algoritmo de BFS para calcular todos los pares de rutas más cortas (asumiendo que la longitud de la ruta esta dada por la cantidad de aristas que interviene más no por su peso)</li>\n",
    "  <li>Compare experimentalmente los algoritmos incluyendo Floyd-Warshall para grafos aleatorios densos ($\\psi$ cercano a 0) variando linealmente los tamaños de $n$</li>\n",
    "  <li>Compare experimentalmente los algoritmos incluyendo Floyd-Warshall para grafos aleatorios dispersos ($\\psi$ cercano a 1) variando linealmente los tamaños de $n$</li>\n",
    "</ol> "
   ]
  },
  {
   "cell_type": "markdown",
   "metadata": {},
   "source": [
    "# 1. Grafos aleatorios"
   ]
  },
  {
   "cell_type": "code",
   "execution_count": 13,
   "metadata": {
    "collapsed": false
   },
   "outputs": [],
   "source": [
    "import random\n",
    "def crearGrafo(n, prob, minw,maxw):\n",
    "    G={}\n",
    "    for i in range(n):\n",
    "        aux={}\n",
    "        for j in range(n):\n",
    "            ranPro=random.uniform(0,1)\n",
    "            if ranPro>prob:\n",
    "                w=random.randint(minw,maxw)\n",
    "                aux[j]=w                \n",
    "        G[i]=aux\n",
    "    \n",
    "    return (G)\n",
    "def crearGrafoMatriz(n, prob, minw,maxw):\n",
    "    G={}\n",
    "    matriz=np.zeros((n,n))+float('inf')\n",
    "    np.fill_diagonal(matriz, 0)\n",
    "    \n",
    "    for i in range(n):\n",
    "        aux={}\n",
    "        for j in range(n):\n",
    "            if i != j:\n",
    "                ranPro=random.uniform(0,1)\n",
    "                if ranPro>prob:\n",
    "                    w=random.randint(minw,maxw)\n",
    "                    aux[j]=w\n",
    "                    matriz[i,j]=w\n",
    "                \n",
    "        G[i]=aux\n",
    "    \n",
    "    return (matriz)"
   ]
  },
  {
   "cell_type": "code",
   "execution_count": 14,
   "metadata": {
    "collapsed": false
   },
   "outputs": [
    {
     "name": "stdout",
     "output_type": "stream",
     "text": [
      "{0: {0: 42, 1: 14, 4: 31}, 1: {0: 46, 2: 3, 3: 12}, 2: {0: 19, 1: 34, 2: 26, 4: 8}, 3: {0: 42, 2: 15, 4: 26}, 4: {1: 2, 4: 7}}\n",
      "[[  0.  46.  28.  37.   3.]\n",
      " [ inf   0.  inf   7.  49.]\n",
      " [ inf  15.   0.  11.  38.]\n",
      " [ 12.  inf  42.   0.  44.]\n",
      " [ inf  40.  inf  47.   0.]]\n"
     ]
    }
   ],
   "source": [
    "print(crearGrafo(5,0.5,1,50))\n",
    "print(crearGrafoMatriz(5,0.5,1,50))\n"
   ]
  },
  {
   "cell_type": "markdown",
   "metadata": {},
   "source": [
    "#  2. Adpatación Dijkstra"
   ]
  },
  {
   "cell_type": "code",
   "execution_count": 15,
   "metadata": {
    "collapsed": true
   },
   "outputs": [],
   "source": [
    "def DijkstraTodos(G):\n",
    "    resultado={}\n",
    "    for i in G:\n",
    "        resultado[i]=Dijkstra(G,i)\n",
    "    return resultado\n",
    "        "
   ]
  },
  {
   "cell_type": "code",
   "execution_count": 16,
   "metadata": {
    "collapsed": false
   },
   "outputs": [
    {
     "name": "stdout",
     "output_type": "stream",
     "text": [
      "{'s': ({'s': 0, 'v': 9, 'x': 5, 'u': 8, 'y': 7}, {'v': 'u', 'x': 's', 'u': 'x', 'y': 'x'}), 'v': ({'s': 11, 'v': 0, 'x': 16, 'u': 19, 'y': 4}, {'s': 'y', 'y': 'v', 'u': 'x', 'x': 's'}), 'x': ({'s': 9, 'v': 4, 'x': 0, 'u': 3, 'y': 2}, {'v': 'u', 'y': 'x', 'u': 'x', 's': 'y'}), 'u': ({'s': 11, 'v': 1, 'x': 2, 'u': 0, 'y': 4}, {'v': 'u', 'x': 'u', 's': 'y', 'y': 'x'}), 'y': ({'s': 7, 'v': 6, 'x': 12, 'u': 15, 'y': 0}, {'s': 'y', 'v': 'y', 'x': 's', 'u': 'x'})}\n"
     ]
    }
   ],
   "source": [
    "G = {'s': {'u':10, 'x':5},\n",
    "    'u': {'v':1, 'x':2},\n",
    "    'v': {'y':4},\n",
    "    'x':{'u':3,'v':9,'y':2},\n",
    "    'y':{'s':7,'v':6}}\n",
    "\n",
    "print(DijkstraTodos(G))"
   ]
  },
  {
   "cell_type": "markdown",
   "metadata": {},
   "source": [
    "# 3. Adaptación Bellman-Ford"
   ]
  },
  {
   "cell_type": "code",
   "execution_count": 17,
   "metadata": {
    "collapsed": true
   },
   "outputs": [],
   "source": [
    "def BellmanFordTodos(G):\n",
    "    resultado={}\n",
    "    for i in G:\n",
    "        resultado[i]=BellmanFord(G,i)\n",
    "    return resultado"
   ]
  },
  {
   "cell_type": "code",
   "execution_count": 18,
   "metadata": {
    "collapsed": false
   },
   "outputs": [
    {
     "name": "stdout",
     "output_type": "stream",
     "text": [
      "Negative cicle x y\n",
      "Negative cicle x u\n",
      "Negative cicle x u\n",
      "Negative cicle x y\n",
      "Negative cicle x u\n",
      "Negative cicle x y\n",
      "Negative cicle x u\n",
      "Negative cicle x u\n",
      "{'s': ({'s': 0, 'v': 2, 'x': -3, 'u': 1, 'y': 0}, {'v': 'u', 'x': 'u', 'u': 'x', 'y': 'x'}), 'v': ({'s': 11, 'v': 0, 'x': 9, 'u': 13, 'y': 4}, {'s': 'y', 'y': 'v', 'u': 'x', 'x': 'u'}), 'x': ({'s': 6, 'v': 1, 'x': -4, 'u': 0, 'y': -1}, {'s': 'y', 'v': 'u', 'y': 'x', 'u': 'x', 'x': 'u'}), 'u': ({'s': 3, 'v': -2, 'x': -7, 'u': -3, 'y': -4}, {'s': 'y', 'v': 'u', 'x': 'u', 'u': 'x', 'y': 'x'}), 'y': ({'s': 7, 'v': 6, 'x': 5, 'u': 9, 'y': 0}, {'s': 'y', 'v': 'y', 'x': 'u', 'u': 'x'})}\n"
     ]
    }
   ],
   "source": [
    "G = {'s': {'u':10, 'x':1},\n",
    "    'u': {'v':1, 'x':-4},\n",
    "    'v': {'y':4},\n",
    "    'x':{'u':3,'v':9,'y':2},\n",
    "    'y':{'s':7,'v':6}}\n",
    "\n",
    "print(BellmanFordTodos(G))"
   ]
  },
  {
   "cell_type": "markdown",
   "metadata": {},
   "source": [
    "# 4. BFS"
   ]
  },
  {
   "cell_type": "code",
   "execution_count": 19,
   "metadata": {
    "collapsed": false
   },
   "outputs": [],
   "source": [
    "import queue\n",
    "\n",
    "def BFS(G):\n",
    "    \n",
    "    resultado={}\n",
    "    for m in G:\n",
    "        q = queue.Queue()\n",
    "        visitados=[]\n",
    "        q.put(m)\n",
    "        while not q.empty():\n",
    "            v=q.get()\n",
    "            if v not in visitados:\n",
    "                visitados.append(v)\n",
    "                for i in G[v]:\n",
    "                    if i not in visitados:\n",
    "                        q.put(i)                \n",
    "        resultado[m]=visitados\n",
    "        \n",
    "    return(resultado)"
   ]
  },
  {
   "cell_type": "code",
   "execution_count": 20,
   "metadata": {
    "collapsed": false
   },
   "outputs": [
    {
     "name": "stdout",
     "output_type": "stream",
     "text": [
      "{'s': ['s', 'x', 'u', 'v', 'y'], 'v': ['v', 'y', 's', 'x', 'u'], 'x': ['x', 'v', 'y', 'u', 's'], 'u': ['u', 'v', 'x', 'y', 's'], 'y': ['y', 's', 'v', 'x', 'u']}\n"
     ]
    }
   ],
   "source": [
    "G = {'s': {'u':10, 'x':1},\n",
    "    'u': {'v':1, 'x':-4},\n",
    "    'v': {'y':4},\n",
    "    'x':{'u':3,'v':9,'y':2},\n",
    "    'y':{'s':7,'v':6}}\n",
    "print(BFS(G))"
   ]
  },
  {
   "cell_type": "markdown",
   "metadata": {},
   "source": [
    "# 5. Comparación $\\psi$ cercano a 0"
   ]
  },
  {
   "cell_type": "code",
   "execution_count": 21,
   "metadata": {
    "collapsed": true
   },
   "outputs": [],
   "source": [
    "import time\n",
    "tic = time.clock()#get start time\n",
    "toc = time.clock()#get final time\n",
    "minw=1\n",
    "maxw=10\n",
    "\n",
    "def exper_Dijkstra(n):\n",
    "   \n",
    "    results=[]\n",
    "    for i in range(n):\n",
    "        tic = time.clock()\n",
    "        DijkstraTodos(crearGrafo(i,probabilidad,minw,maxw))\n",
    "        toc = time.clock()\n",
    "        results.append((toc-tic))\n",
    "    return results\n",
    "\n",
    "def exper_BellmanFord(n):\n",
    "\n",
    "    results=[]\n",
    "    for i in range(n):\n",
    "        tic = time.clock()\n",
    "        BellmanFordTodos(crearGrafo(i,probabilidad,minw,maxw))\n",
    "        toc = time.clock()\n",
    "        results.append((toc-tic))\n",
    "    return results\n",
    "\n",
    "def exper_BFS(n):\n",
    "\n",
    "    results=[]\n",
    "    for i in range(n):\n",
    "        tic = time.clock()\n",
    "        BFS(crearGrafo(i,probabilidad,minw,maxw))\n",
    "        toc = time.clock()\n",
    "        results.append((toc-tic))\n",
    "    return results\n",
    "\n",
    "def exper_FloydWarshall(n):\n",
    "    results=[]\n",
    "    for i in range(n):\n",
    "        tic = time.clock()\n",
    "        FloydWarshall(crearGrafoMatriz(i,probabilidad,minw,maxw))\n",
    "        toc = time.clock()\n",
    "        results.append((toc-tic))\n",
    "    return results\n"
   ]
  },
  {
   "cell_type": "code",
   "execution_count": 22,
   "metadata": {
    "collapsed": false
   },
   "outputs": [
    {
     "data": {
      "image/png": "[encoded data removed]",
      "text/plain": [
       "<matplotlib.figure.Figure at 0x13b2c8c4710>"
      ]
     },
     "metadata": {},
     "output_type": "display_data"
    }
   ],
   "source": [
    "import pylab \n",
    "pylab.clf()\n",
    "n=50\n",
    "probabilidad=0.3\n",
    "x = np.arange(n)\n",
    "d = np.array(exper_Dijkstra(n)) \n",
    "bf = np.array(exper_BellmanFord(n))\n",
    "bfs = np.array(exper_BFS(n)) \n",
    "fw = np.array(exper_FloydWarshall(n))\n",
    "pylab.plot(x, d, 'b', x, bf, 'k', x, bfs,'g', x, fw, 'r')\n",
    "pylab.show()"
   ]
  },
  {
   "cell_type": "markdown",
   "metadata": {},
   "source": [
    "# 5. Comparación $\\psi$ cercano a 1"
   ]
  },
  {
   "cell_type": "code",
   "execution_count": 23,
   "metadata": {
    "collapsed": false
   },
   "outputs": [
    {
     "data": {
      "image/png": "[encoded data removed]",
      "text/plain": [
       "<matplotlib.figure.Figure at 0x13b2cc17cf8>"
      ]
     },
     "metadata": {},
     "output_type": "display_data"
    }
   ],
   "source": [
    "import pylab \n",
    "pylab.clf()\n",
    "n=50\n",
    "probabilidad=0.9\n",
    "x = np.arange(n)\n",
    "d = np.array(exper_Dijkstra(n)) \n",
    "bf = np.array(exper_BellmanFord(n))\n",
    "bfs = np.array(exper_BFS(n)) \n",
    "fw = np.array(exper_FloydWarshall(n))\n",
    "pylab.plot(x, d, 'b', x, bf, 'k', x, bfs,'g', x, fw, 'r')\n",
    "pylab.show()"
   ]
  }
 ],
 "metadata": {
  "kernelspec": {
   "display_name": "Python [default]",
   "language": "python",
   "name": "python3"
  },
  "language_info": {
   "codemirror_mode": {
    "name": "ipython",
    "version": 3
   },
   "file_extension": ".py",
   "mimetype": "text/x-python",
   "name": "python",
   "nbconvert_exporter": "python",
   "pygments_lexer": "ipython3",
   "version": "3.5.2"
  }
 },
 "nbformat": 4,
 "nbformat_minor": 0
}
