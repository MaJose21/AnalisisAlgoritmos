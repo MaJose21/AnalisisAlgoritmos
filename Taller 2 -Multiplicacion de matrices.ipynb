{
 "cells": [
  {
   "cell_type": "markdown",
   "metadata": {},
   "source": [
    "# Multiplicación de matrices cuadradas de tamaño nxn A*B = C"
   ]
  },
  {
   "cell_type": "markdown",
   "metadata": {},
   "source": [
    "Imports y Class Counter"
   ]
  },
  {
   "cell_type": "code",
   "execution_count": 1,
   "metadata": {
    "collapsed": true
   },
   "outputs": [],
   "source": [
    "import random\n",
    "import pylab \n",
    "import math\n",
    "import numpy as np\n",
    "\n",
    "class Counter:\n",
    "    '''\n",
    "    Class Counter\n",
    "    Implements a step counter, which is used to compute the number of basic operations performed in\n",
    "    a particular call to a function.\n",
    "    '''\n",
    "    def __init__(self):\n",
    "        self.steps = 0\n",
    "\n",
    "    def reset(self):\n",
    "        self.steps = 0\n",
    "\n",
    "    def count(self):\n",
    "        self.steps += 1\n",
    "\n",
    "    def print_steps(self):\n",
    "        print (\"Number of steps =\", self.steps)\n",
    "    "
   ]
  },
  {
   "cell_type": "markdown",
   "metadata": {},
   "source": [
    "# 1. Algoritmo de multiplicación de matrices en tiempo O(n^3) que calcula cada elemento de la matriz C como c_{ij} = \\sum_{k=1}^n a_{ik}*b_{kj}"
   ]
  },
  {
   "cell_type": "code",
   "execution_count": 2,
   "metadata": {
    "collapsed": false
   },
   "outputs": [],
   "source": [
    "def mult_matrices(A,B, n, acct):\n",
    "    m=int(n)\n",
    "    a=list(A); acct.count()\n",
    "    b=list(B); acct.count()\n",
    "    S = np.zeros((m,m,)); acct.count()\n",
    "    for i in range(m):\n",
    "        acct.count()\n",
    "        for j in range(m):\n",
    "            acct.count()\n",
    "            for k in range(m):\n",
    "                acct.count()\n",
    "                S[i][j]=S[i][j]+(a[i][k]*b[k][j]);acct.count();acct.count()\n",
    "    return S"
   ]
  },
  {
   "cell_type": "markdown",
   "metadata": {},
   "source": [
    "<h3>Ejemplo con matriz de 5x5:</h3>"
   ]
  },
  {
   "cell_type": "code",
   "execution_count": 3,
   "metadata": {
    "collapsed": false
   },
   "outputs": [
    {
     "name": "stdout",
     "output_type": "stream",
     "text": [
      "Matriz A: \n",
      "[[11 16 31  6 31]\n",
      " [22  3  7  4 32]\n",
      " [19 36 12 34 32]\n",
      " [22 21  9 13 29]\n",
      " [ 3 33 35 31 13]]\n",
      "Matriz B: \n",
      "[[25 18 21 23 33]\n",
      " [ 8 38 26 24 29]\n",
      " [22 21 21  1 28]\n",
      " [14 22  8 22 14]\n",
      " [14  2 31 34  3]]\n",
      "Resultado de la multiplicación: \n",
      "[[ 1603.  1651.  2307.  1854.  1872.]\n",
      " [ 1232.   809.  1711.  1761.  1161.]\n",
      " [ 1951.  2774.  2851.  3149.  2579.]\n",
      " [ 1504.  1727.  2200.  2291.  1856.]\n",
      " [ 1725.  2751.  2307.  2020.  2509.]]\n"
     ]
    }
   ],
   "source": [
    "i=5\n",
    "acct = Counter()\n",
    "A =np.random.randint(40, size=(i, i))\n",
    "np.random.shuffle(A)\n",
    "B = np.random.randint(40, size=(i, i))\n",
    "np.random.shuffle(B)\n",
    "print ('Matriz A: ')\n",
    "print (A)\n",
    "print ('Matriz B: ')\n",
    "print (B)\n",
    "print ('Resultado de la multiplicación: ')\n",
    "print (mult_matrices(A,B,i,acct))"
   ]
  },
  {
   "cell_type": "markdown",
   "metadata": {},
   "source": [
    "<h3> Análisis del tiempo de ejecución</h3>"
   ]
  },
  {
   "cell_type": "code",
   "execution_count": 4,
   "metadata": {
    "collapsed": true
   },
   "outputs": [],
   "source": [
    "def exper_analysis_1(n):\n",
    "    results = []\n",
    "    \n",
    "    for i in range(2,n):\n",
    "        acct = Counter()\n",
    "        A =np.random.randint(40, size=(i, i))\n",
    "        np.random.shuffle(A)\n",
    "        B = np.random.randint(40, size=(i, i))\n",
    "        np.random.shuffle(B)\n",
    "        mult_matrices(A,B,i,acct)\n",
    "        results.append(acct.steps)\n",
    "    return results"
   ]
  },
  {
   "cell_type": "code",
   "execution_count": 5,
   "metadata": {
    "collapsed": false
   },
   "outputs": [
    {
     "data": {
      "image/png": "[encoded data removed]",
      "text/plain": [
       "<matplotlib.figure.Figure at 0x143ee4972b0>"
      ]
     },
     "metadata": {},
     "output_type": "display_data"
    }
   ],
   "source": [
    "pylab.clf()\n",
    "x = np.arange(2,50)\n",
    "y = np.array(exper_analysis_1(50))\n",
    "\n",
    "pylab.plot(x, y, 'k.')\n",
    "pylab.show()"
   ]
  },
  {
   "cell_type": "markdown",
   "metadata": {},
   "source": [
    "# 2. Algoritmo de multiplicación de matrices basado en una estrategía de multiplicación de matrices en tiempo O(n^3) donde cada matriz es dividida en 4 partes iguales."
   ]
  },
  {
   "cell_type": "code",
   "execution_count": 16,
   "metadata": {
    "collapsed": true
   },
   "outputs": [],
   "source": [
    "def multi_div_4(A,B,i,acct):\n",
    "    x=list(A); acct.count()\n",
    "    y=list(B); acct.count()\n",
    "    tam_inicial=i; acct.count()\n",
    "    \n",
    "    if i%2!=0:\n",
    "        acct.count()\n",
    "        aux_a = np.zeros((i+1,i+1)); acct.count()\n",
    "        aux_a[:-1,:-1] = A; acct.count()\n",
    "        A=aux_a; acct.count()\n",
    "        aux_b = np.zeros((i+1,i+1)); acct.count()\n",
    "        aux_b[:-1,:-1] = B; acct.count()\n",
    "        B=aux_b; acct.count()\n",
    "        i+=1; acct.count()\n",
    "        \n",
    "    n=int(i/2); acct.count()\n",
    "    \n",
    "    a=A[0:n,0:n]; acct.count()\n",
    "    b=A[0:n,n:i]; acct.count()\n",
    "    c=A[n:i,0:n]; acct.count()\n",
    "    d=A[n:i,n:i]; acct.count()\n",
    "    \n",
    "    e=B[0:n,0:n]; acct.count()\n",
    "    f=B[0:n,n:i]; acct.count()\n",
    "    g=B[n:i,0:n]; acct.count()\n",
    "    h=B[n:i,n:i]; acct.count()\n",
    "    \n",
    "    if n>2:\n",
    "        acct.count()\n",
    "        ae=multi_div_4(a,e,n,acct); acct.count()\n",
    "        bg=multi_div_4(b,g,n,acct); acct.count()\n",
    "        af=multi_div_4(a,f,n,acct); acct.count()\n",
    "        bh=multi_div_4(b,h,n,acct); acct.count()\n",
    "        ce=multi_div_4(c,e,n,acct); acct.count()\n",
    "        dg=multi_div_4(d,g,n,acct); acct.count()\n",
    "        cf=multi_div_4(c,f,n,acct); acct.count()\n",
    "        dh=multi_div_4(d,h,n,acct); acct.count()\n",
    "\n",
    "        \n",
    "    else:\n",
    "        ae=mult_matrices(a,e,n,acct); acct.count()\n",
    "        bg=mult_matrices(b,g,n,acct); acct.count()\n",
    "        af=mult_matrices(a,f,n,acct); acct.count()\n",
    "        bh=mult_matrices(b,h,n,acct); acct.count()\n",
    "        ce=mult_matrices(c,e,n,acct); acct.count()\n",
    "        dg=mult_matrices(d,g,n,acct); acct.count()\n",
    "        cf=mult_matrices(c,f,n,acct); acct.count()\n",
    "        dh=mult_matrices(d,h,n,acct); acct.count()\n",
    "        \n",
    "    primer=sumar_matrices(ae,bg,n,acct); acct.count()\n",
    "    segundo=sumar_matrices(af,bh,n,acct); acct.count()\n",
    "    tercer=sumar_matrices(ce,dg,n,acct); acct.count()\n",
    "    cuarto=sumar_matrices(cf,dh,n,acct); acct.count()\n",
    "\n",
    "    resultado=(np.concatenate(((np.concatenate((primer, segundo),axis=1)),(np.concatenate((tercer, cuarto),axis=1))),axis=0)); acct.count() \n",
    "    if tam_inicial%2!=0:\n",
    "        acct.count()\n",
    "        resultado=resultado[0:tam_inicial,0:tam_inicial]; acct.count()\n",
    "    return resultado  \n",
    "\n",
    "def sumar_matrices(a,b,n,acct):\n",
    "    result=np.zeros((n,n,));acct.count()\n",
    "    for i in range(n):\n",
    "        acct.count()\n",
    "        for j in range(n):\n",
    "            acct.count()\n",
    "            result[i][j]=a[i][j]+b[i][j]; acct.count()\n",
    "    return result"
   ]
  },
  {
   "cell_type": "markdown",
   "metadata": {},
   "source": [
    "<h3>Ejemplo con matriz de 5x5:</h3>"
   ]
  },
  {
   "cell_type": "code",
   "execution_count": 17,
   "metadata": {
    "collapsed": false
   },
   "outputs": [
    {
     "name": "stdout",
     "output_type": "stream",
     "text": [
      "Matriz A: \n",
      "[[27 28 13  8 28]\n",
      " [ 9 20 38 18 14]\n",
      " [13 27  9 22 27]\n",
      " [ 8 24 38 27 11]\n",
      " [ 3  6 31  9 29]]\n",
      "Matriz B: \n",
      "[[ 0 11  5  1 27]\n",
      " [32  5 39 26  3]\n",
      " [26  4 34 17 30]\n",
      " [39 35 30 33 39]\n",
      " [32 18 28 36 17]]\n",
      "Resultado de la multiplicación: \n",
      "[[ 2442.  1273.  2693.  2248.  1991.]\n",
      " [ 2778.  1233.  3049.  2273.  2383.]\n",
      " [ 2820.  1570.  2840.  2566.  2019.]\n",
      " [ 3161.  1503.  3386.  2565.  2668.]\n",
      " [ 2277.  1024.  2385.  2027.  1873.]]\n"
     ]
    }
   ],
   "source": [
    "i=5\n",
    "acct = Counter()\n",
    "A =np.random.randint(40, size=(i, i))\n",
    "np.random.shuffle(A)\n",
    "B = np.random.randint(40, size=(i, i))\n",
    "np.random.shuffle(B)\n",
    "print ('Matriz A: ')\n",
    "print (A)\n",
    "print ('Matriz B: ')\n",
    "print (B)\n",
    "print ('Resultado de la multiplicación: ')\n",
    "print (multi_div_4(A,B,i,acct))"
   ]
  },
  {
   "cell_type": "markdown",
   "metadata": {},
   "source": [
    "<h3> Análisis del tiempo de ejecución</h3>"
   ]
  },
  {
   "cell_type": "code",
   "execution_count": 8,
   "metadata": {
    "collapsed": true
   },
   "outputs": [],
   "source": [
    "def exper_analysis_2(n):\n",
    "    results = []\n",
    "    for i in range(2,n):\n",
    "        acct = Counter()\n",
    "        A =np.random.randint(3, size=(i, i))\n",
    "        np.random.shuffle(A)\n",
    "        B = np.random.randint(3, size=(i, i))\n",
    "        np.random.shuffle(B)\n",
    "        multi_div_4(A,B,i,acct)\n",
    "        results.append(acct.steps)\n",
    "    return results"
   ]
  },
  {
   "cell_type": "code",
   "execution_count": 9,
   "metadata": {
    "collapsed": false
   },
   "outputs": [
    {
     "data": {
      "image/png": "[encoded data removed]",
      "text/plain": [
       "<matplotlib.figure.Figure at 0x143ee868160>"
      ]
     },
     "metadata": {},
     "output_type": "display_data"
    }
   ],
   "source": [
    "pylab.clf()\n",
    "x = np.arange(2,20)\n",
    "y = np.array(exper_analysis_2(20))\n",
    "\n",
    "pylab.plot(x, y, 'k.')\n",
    "pylab.show()"
   ]
  },
  {
   "cell_type": "markdown",
   "metadata": {
    "collapsed": true
   },
   "source": [
    "# 3. Algoritmo de Strassen"
   ]
  },
  {
   "cell_type": "code",
   "execution_count": 10,
   "metadata": {
    "collapsed": false
   },
   "outputs": [],
   "source": [
    "def strassen(A,B,i,acct):\n",
    "    x=list(A); acct.count()\n",
    "    y=list(B); acct.count()\n",
    "    tam_inicial=i; acct.count()\n",
    "    \n",
    "    if i%2!=0:\n",
    "        acct.count()\n",
    "        aux_a = np.zeros((i+1,i+1)); acct.count()\n",
    "        aux_a[:-1,:-1] = A; acct.count()\n",
    "        A=aux_a; acct.count()\n",
    "        aux_b = np.zeros((i+1,i+1)); acct.count()\n",
    "        aux_b[:-1,:-1] = B; acct.count()\n",
    "        B=aux_b; acct.count()\n",
    "        i+=1; acct.count()\n",
    "        \n",
    "    n=int(i/2); acct.count()\n",
    "    \n",
    "    a=A[0:n,0:n]; acct.count()\n",
    "    b=A[0:n,n:i]; acct.count()\n",
    "    c=A[n:i,0:n]; acct.count()\n",
    "    d=A[n:i,n:i]; acct.count()\n",
    "    \n",
    "    e=B[0:n,0:n]; acct.count()\n",
    "    f=B[0:n,n:i]; acct.count()\n",
    "    g=B[n:i,0:n]; acct.count()\n",
    "    h=B[n:i,n:i]; acct.count()\n",
    "    \n",
    "    FH=restar_matrices(f,h,n,acct)\n",
    "    AB=sumar_matrices(a,b,n,acct)\n",
    "    CD=sumar_matrices(c,d,n,acct)\n",
    "    GE=restar_matrices(g,e,n,acct)\n",
    "    AD=sumar_matrices(a,d,n,acct)\n",
    "    EH=sumar_matrices(e,h,n,acct)\n",
    "    BD=restar_matrices(b,d,n,acct)\n",
    "    GH=sumar_matrices(g,h,n,acct)\n",
    "    AC=restar_matrices(a,c,n,acct)\n",
    "    EF=sumar_matrices(e,f,n,acct)\n",
    "    \n",
    "    if n>2:\n",
    "        p1=strassen(a,FH,n,acct); acct.count()\n",
    "        p2=strassen(AB,h,n,acct); acct.count()\n",
    "        p3=strassen(CD,e,n,acct); acct.count()\n",
    "        p4=strassen(d,GE,n,acct); acct.count()\n",
    "        p5=strassen(AD,EH,n,acct); acct.count()\n",
    "        p6=strassen(BD,GH,n,acct); acct.count()\n",
    "        p7=strassen(AC,EF,n,acct); acct.count()\n",
    "\n",
    "    else:\n",
    "        p1=mult_matrices(a,FH,n,acct); acct.count()\n",
    "        p2=mult_matrices(AB,h,n,acct); acct.count()\n",
    "        p3=mult_matrices(CD,e,n,acct); acct.count()\n",
    "        p4=mult_matrices(d,GE,n,acct); acct.count()\n",
    "        p5=mult_matrices(AD,EH,n,acct); acct.count()\n",
    "        p6=mult_matrices(BD,GH,n,acct); acct.count()\n",
    "        p7=mult_matrices(AC,EF,n,acct); acct.count()\n",
    "\n",
    "    p5p4=sumar_matrices(p5,p4,n,acct); acct.count()\n",
    "    p5p4p2=restar_matrices(p5p4,p2,n,acct); acct.count()\n",
    "    primer=sumar_matrices(p5p4p2,p6,n,acct); acct.count()\n",
    "    segundo=sumar_matrices(p1,p2,n,acct); acct.count()\n",
    "    tercer=sumar_matrices(p3,p4,n,acct); acct.count()\n",
    "    p1p5=sumar_matrices(p1,p5,n,acct); acct.count()\n",
    "    p1p5p3=restar_matrices(p1p5,p3,n,acct);acct.count()\n",
    "    cuarto=restar_matrices(p1p5p3,p7,n,acct);acct.count()\n",
    "    \n",
    "    resultado=(np.concatenate(((np.concatenate((primer, segundo),axis=1)),(np.concatenate((tercer, cuarto),axis=1))),axis=0)); acct.count() \n",
    "    if tam_inicial%2!=0:\n",
    "        acct.count()\n",
    "        resultado=resultado[0:tam_inicial,0:tam_inicial]; acct.count()\n",
    "\n",
    "    return resultado  \n",
    "\n",
    "def sumar_matrices(a,b,n,acct):\n",
    "    result=np.zeros((n,n,));acct.count()\n",
    "    for i in range(n):\n",
    "        acct.count()\n",
    "        for j in range(n):\n",
    "            acct.count()\n",
    "            result[i][j]=a[i][j]+b[i][j]; acct.count()\n",
    "    return result\n",
    "\n",
    "def restar_matrices(a,b,n,acct):\n",
    "    result=np.zeros((n,n,));acct.count()\n",
    "    for i in range(n):\n",
    "        acct.count()\n",
    "        for j in range(n):\n",
    "            acct.count()\n",
    "            result[i][j]=a[i][j]-b[i][j]; acct.count()\n",
    "    return result"
   ]
  },
  {
   "cell_type": "markdown",
   "metadata": {},
   "source": [
    "<h3>Ejemplo con matriz de 5x5:</h3>"
   ]
  },
  {
   "cell_type": "code",
   "execution_count": 11,
   "metadata": {
    "collapsed": false
   },
   "outputs": [
    {
     "name": "stdout",
     "output_type": "stream",
     "text": [
      "Matriz A: \n",
      "[[18 29 39 33 28]\n",
      " [16 16  5 17  5]\n",
      " [ 3 37 13  0  4]\n",
      " [23  9  5 37 20]\n",
      " [38 32 23 22 22]]\n",
      "Matriz B: \n",
      "[[15 12 29 22 19]\n",
      " [ 4  1  5 39 19]\n",
      " [26 22 33 31  5]\n",
      " [23 28 18 32 30]\n",
      " [26  7  4 10 31]]\n",
      "Resultado de la multiplicación: \n",
      "[[ 2887.  2223.  2660.  4072.  2946.]\n",
      " [  955.   829.  1035.  1725.  1298.]\n",
      " [  635.   387.   717.  1952.   949.]\n",
      " [ 1882.  1571.  1623.  2396.  2363.]\n",
      " [ 2374.  1764.  2505.  3721.  2787.]]\n"
     ]
    }
   ],
   "source": [
    "i=5\n",
    "acct = Counter()\n",
    "A =np.random.randint(40, size=(i, i))\n",
    "np.random.shuffle(A)\n",
    "B = np.random.randint(40, size=(i, i))\n",
    "np.random.shuffle(B)\n",
    "print ('Matriz A: ')\n",
    "print (A)\n",
    "print ('Matriz B: ')\n",
    "print (B)\n",
    "print ('Resultado de la multiplicación: ')\n",
    "print (strassen(A,B,i,acct))"
   ]
  },
  {
   "cell_type": "code",
   "execution_count": 12,
   "metadata": {
    "collapsed": true
   },
   "outputs": [],
   "source": [
    "def exper_analysis_3(n):\n",
    "    results = []\n",
    "    for i in range(2,n):\n",
    "        acct = Counter()\n",
    "        A =np.random.randint(3, size=(i, i))\n",
    "        np.random.shuffle(A)\n",
    "        B = np.random.randint(3, size=(i, i))\n",
    "        np.random.shuffle(B)\n",
    "        strassen(A,B,i,acct)\n",
    "        results.append(acct.steps)\n",
    "    return results"
   ]
  },
  {
   "cell_type": "code",
   "execution_count": 13,
   "metadata": {
    "collapsed": false
   },
   "outputs": [
    {
     "data": {
      "image/png": "[encoded data removed]",
      "text/plain": [
       "<matplotlib.figure.Figure at 0x143ee868d68>"
      ]
     },
     "metadata": {},
     "output_type": "display_data"
    }
   ],
   "source": [
    "import pylab \n",
    "import math\n",
    "pylab.clf()\n",
    "x = np.arange(2,20)\n",
    "y = np.array(exper_analysis_3(20))\n",
    "\n",
    "pylab.plot(x, y, 'k.')\n",
    "pylab.show()"
   ]
  },
  {
   "cell_type": "markdown",
   "metadata": {},
   "source": [
    "# Comparación de los tres algoritmos\n",
    "Rojo: multiplicación de matrices en tiempo O(n^3) que calcule cada elemento de la matriz C como c_{ij} = \\sum_{k=1}^n a_{ik}*b_{kj} <br>\n",
    "Azul: multiplicación de matrices basado en una estrategía de multiplicación de matrices en tiempo O(n^3) donde cada matriz es dividida en 4 partes iguales<br>\n",
    "Negro: algoritmo de Strassen"
   ]
  },
  {
   "cell_type": "code",
   "execution_count": 14,
   "metadata": {
    "collapsed": false
   },
   "outputs": [
    {
     "data": {
      "image/png": "[encoded data removed]",
      "text/plain": [
       "<matplotlib.figure.Figure at 0x143ec4d7208>"
      ]
     },
     "metadata": {},
     "output_type": "display_data"
    }
   ],
   "source": [
    "pylab.clf()\n",
    "x = np.arange(2,100)\n",
    "y = np.array(exper_analysis_1(100))\n",
    "\n",
    "a = np.arange(2,100)\n",
    "b = np.array(exper_analysis_2(100))\n",
    "\n",
    "c = np.arange(2,100)\n",
    "d = np.array(exper_analysis_3(100))\n",
    "\n",
    "pylab.plot(x, y, 'r.',a,b,'b.',c,d,'k.')\n",
    "pylab.show()"
   ]
  }
 ],
 "metadata": {
  "anaconda-cloud": {},
  "kernelspec": {
   "display_name": "Python [default]",
   "language": "python",
   "name": "python3"
  },
  "language_info": {
   "codemirror_mode": {
    "name": "ipython",
    "version": 3
   },
   "file_extension": ".py",
   "mimetype": "text/x-python",
   "name": "python",
   "nbconvert_exporter": "python",
   "pygments_lexer": "ipython3",
   "version": "3.5.2"
  }
 },
 "nbformat": 4,
 "nbformat_minor": 1
}
