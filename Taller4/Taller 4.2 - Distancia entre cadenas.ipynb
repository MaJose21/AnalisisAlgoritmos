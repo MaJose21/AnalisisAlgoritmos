{
 "cells": [
  {
   "cell_type": "code",
   "execution_count": 4,
   "metadata": {
    "collapsed": false
   },
   "outputs": [],
   "source": [
    "import numpy as np\n",
    "def distancia(A,B):\n",
    "\n",
    "    a=list(A)\n",
    "    b=list(B)\n",
    "    tamA=len(a)\n",
    "    tamB=len(b)\n",
    "    \n",
    "    m=np.zeros((tamA+1, tamB+1))\n",
    "    for i in range(tamA+1):\n",
    "        m[i][0]=i\n",
    "    for i in range(tamB+1):\n",
    "        m[0][i]=i\n",
    "    for i in range(1,tamA+1,1):\n",
    "        for j in range(1,tamB+1,1):\n",
    "            if a[i-1]==b[j-1]:\n",
    "                m[i][j]=m[i-1][j-1]\n",
    "            else:                \n",
    "                m[i][j]=1+min(m[i-1][j-1],m[i][j-1],m[i-1][j])\n",
    "            \n",
    "    print(int(m[tamA][tamB]))\n",
    "    "
   ]
  },
  {
   "cell_type": "code",
   "execution_count": 5,
   "metadata": {
    "collapsed": false
   },
   "outputs": [
    {
     "name": "stdout",
     "output_type": "stream",
     "text": [
      "2\n"
     ]
    }
   ],
   "source": [
    "distancia('mary','maria')"
   ]
  }
 ],
 "metadata": {
  "anaconda-cloud": {},
  "kernelspec": {
   "display_name": "Python [default]",
   "language": "python",
   "name": "python3"
  },
  "language_info": {
   "codemirror_mode": {
    "name": "ipython",
    "version": 3
   },
   "file_extension": ".py",
   "mimetype": "text/x-python",
   "name": "python",
   "nbconvert_exporter": "python",
   "pygments_lexer": "ipython3",
   "version": "3.5.2"
  }
 },
 "nbformat": 4,
 "nbformat_minor": 1
}
