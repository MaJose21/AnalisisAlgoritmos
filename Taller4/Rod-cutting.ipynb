{
 "cells": [
  {
   "cell_type": "code",
   "execution_count": 48,
   "metadata": {
    "collapsed": true
   },
   "outputs": [],
   "source": [
    "import math\n",
    "import numpy as np\n",
    "import pylab as pl\n",
    "%matplotlib inline"
   ]
  },
  {
   "cell_type": "code",
   "execution_count": null,
   "metadata": {
    "collapsed": true
   },
   "outputs": [],
   "source": [
    "#![title](images/pre-image.png)(Honeine and Richard,2011)"
   ]
  },
  {
   "cell_type": "markdown",
   "metadata": {},
   "source": [
    "<h2>Subestructura óptima</h2>\n",
    "Recompensa:\n",
    "$$r_i = \\max_{1\\leq i\\leq n}(p_i+r_{n-i})$$"
   ]
  },
  {
   "cell_type": "markdown",
   "metadata": {},
   "source": [
    "Implementación simple de arriba hacia abajo (top-down)"
   ]
  },
  {
   "cell_type": "code",
   "execution_count": 2,
   "metadata": {
    "collapsed": true
   },
   "outputs": [],
   "source": [
    "def cut_rodR(p, n):\n",
    "    if n==0:\n",
    "        return 0\n",
    "    q = float('-inf')\n",
    "    for i in range(n):\n",
    "        #print i\n",
    "        q = max(q, p[i] + cut_rodR(p, n-1-i))\n",
    "    return q"
   ]
  },
  {
   "cell_type": "code",
   "execution_count": 3,
   "metadata": {
    "collapsed": true
   },
   "outputs": [],
   "source": [
    "p = [1,5,8,9,10,17,17,20,24,30]"
   ]
  },
  {
   "cell_type": "code",
   "execution_count": 4,
   "metadata": {
    "collapsed": false
   },
   "outputs": [
    {
     "name": "stdout",
     "output_type": "stream",
     "text": [
      "22\n"
     ]
    }
   ],
   "source": [
    "sol = cut_rodR(p,8)\n",
    "print sol"
   ]
  },
  {
   "cell_type": "markdown",
   "metadata": {},
   "source": [
    "$$T(n) = 2^n$$"
   ]
  },
  {
   "cell_type": "markdown",
   "metadata": {
    "collapsed": true
   },
   "source": [
    "Implementación de arriba hacia abajo con memorización (memoization)"
   ]
  },
  {
   "cell_type": "code",
   "execution_count": 34,
   "metadata": {
    "collapsed": false
   },
   "outputs": [],
   "source": [
    "def memo_cut_rodTD(p, n):\n",
    "    r = [-1] * (n+1)\n",
    "    return memo_cut_rodTD_aux(p,n,r)\n",
    "\n",
    "def memo_cut_rodTD_aux(p,n,r):\n",
    "    if r[n] >= 0:\n",
    "        return r[n]\n",
    "    if n == 0:\n",
    "        q = 0\n",
    "    else:\n",
    "        q = float('-inf')\n",
    "        for i in range(1,n+1):\n",
    "            q = max(q, p[i-1]+memo_cut_rodTD_aux(p,n-i,r))\n",
    "            \n",
    "    r[n]=q\n",
    "    print r\n",
    "    return q"
   ]
  },
  {
   "cell_type": "code",
   "execution_count": 35,
   "metadata": {
    "collapsed": false
   },
   "outputs": [
    {
     "name": "stdout",
     "output_type": "stream",
     "text": [
      "[0, -1, -1, -1, -1, -1, -1, -1, -1, -1, -1]\n",
      "[0, 1, -1, -1, -1, -1, -1, -1, -1, -1, -1]\n",
      "[0, 1, 5, -1, -1, -1, -1, -1, -1, -1, -1]\n",
      "[0, 1, 5, 8, -1, -1, -1, -1, -1, -1, -1]\n",
      "[0, 1, 5, 8, 10, -1, -1, -1, -1, -1, -1]\n",
      "[0, 1, 5, 8, 10, 13, -1, -1, -1, -1, -1]\n",
      "[0, 1, 5, 8, 10, 13, 17, -1, -1, -1, -1]\n",
      "[0, 1, 5, 8, 10, 13, 17, 18, -1, -1, -1]\n",
      "[0, 1, 5, 8, 10, 13, 17, 18, 22, -1, -1]\n",
      "[0, 1, 5, 8, 10, 13, 17, 18, 22, 25, -1]\n",
      "[0, 1, 5, 8, 10, 13, 17, 18, 22, 25, 30]\n",
      "30\n"
     ]
    }
   ],
   "source": [
    "sol = memo_cut_rodTD(p,10)\n",
    "print sol"
   ]
  },
  {
   "cell_type": "markdown",
   "metadata": {},
   "source": [
    "Implementación abajo hacia arriba (bottom-up) con memorización"
   ]
  },
  {
   "cell_type": "code",
   "execution_count": 114,
   "metadata": {
    "collapsed": false
   },
   "outputs": [],
   "source": [
    "global arr\n",
    "global r\n",
    "def memo_cut_rodBU(p,n):\n",
    "    global arr\n",
    "    global r\n",
    "   \n",
    "    r[0] = 0\n",
    "    for j in range(1,n+1):\n",
    "        q = float('-inf')\n",
    "        izq=p[j+1]\n",
    "        der=p[j+1]\n",
    "        for i in range(1,j+1): \n",
    "            \n",
    "            if p[i-1]+r[j-i]>q:\n",
    "                q = p[i-1]+r[j-i]\n",
    "                print i-1,j-i-1\n",
    "                izq=i-1\n",
    "                der=j-i-1\n",
    "                \n",
    "        arr[0,j]=izq\n",
    "        arr[1,j]=der\n",
    "        r[j] = q\n",
    "        \n",
    "    print r\n",
    "   \n",
    "    return r[n]\n",
    "\n",
    "def funcion(p,n):\n",
    "    global arr\n",
    "    global r\n",
    "     r = [0] * (n+1)\n",
    "    arr=np.zeros((2,n+1))\n",
    "    memo_cut_rodBU(p,n)\n",
    "    while x>0 or y>0:\n",
    "        if x>0:\n",
    "            x=r[arr[0,fin]]\n",
    "            \n",
    "        y=r[arr[1,fin]]\n",
    "        "
   ]
  },
  {
   "cell_type": "code",
   "execution_count": 115,
   "metadata": {
    "collapsed": false
   },
   "outputs": [
    {
     "name": "stdout",
     "output_type": "stream",
     "text": [
      "0 -1\n",
      "0 0\n",
      "1 -1\n",
      "0 1\n",
      "2 -1\n",
      "0 2\n",
      "1 1\n",
      "0 3\n",
      "1 2\n",
      "0 4\n",
      "1 3\n",
      "2 2\n",
      "5 -1\n",
      "0 5\n",
      "0 6\n",
      "1 5\n",
      "[0, 1, 5, 8, 10, 13, 17, 18, 22]\n",
      "[[ 0.  0.  1.  2.  1.  1.  5.  0.  1.]\n",
      " [ 0. -1. -1. -1.  1.  2. -1.  5.  5.]]\n",
      "None\n"
     ]
    }
   ],
   "source": [
    "sol = funcion(p,8)\n",
    "print sol"
   ]
  },
  {
   "cell_type": "code",
   "execution_count": 107,
   "metadata": {
    "collapsed": true
   },
   "outputs": [],
   "source": [
    "p = [1,5,8,9,10,17,17,20,24,30,31,35,38,39,40,47,47,50,54,60,61,65,68,69,70,77,77,80,84,90,91,95,98,99,100,107,107,110,114,120,121,125,128,129,130,137,137,140,144,150]\n",
    "n = 4"
   ]
  },
  {
   "cell_type": "code",
   "execution_count": null,
   "metadata": {
    "collapsed": true
   },
   "outputs": [],
   "source": []
  }
 ],
 "metadata": {
  "kernelspec": {
   "display_name": "Python [default]",
   "language": "python",
   "name": "python2"
  },
  "language_info": {
   "codemirror_mode": {
    "name": "ipython",
    "version": 2
   },
   "file_extension": ".py",
   "mimetype": "text/x-python",
   "name": "python",
   "nbconvert_exporter": "python",
   "pygments_lexer": "ipython2",
   "version": "2.7.12"
  }
 },
 "nbformat": 4,
 "nbformat_minor": 0
}
