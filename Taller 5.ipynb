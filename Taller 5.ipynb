{
 "cells": [
  {
   "cell_type": "markdown",
   "metadata": {},
   "source": [
    "# Algoritmo DFS y prueba con Pacman"
   ]
  },
  {
   "cell_type": "code",
   "execution_count": 15,
   "metadata": {
    "collapsed": true
   },
   "outputs": [],
   "source": [
    "def dfs_rec(adjLists, visited, v):\n",
    "    visited[v] = True\n",
    "    print(v)\n",
    "    for w in adjLists[v]:\n",
    "        if(not visited[w]):\n",
    "            dfs_rec(adjLists, visited, w)\n",
    "\n",
    "def dfs(adjLists):\n",
    "    visited = []\n",
    "    n = len(adjLists)\n",
    "    for i in range(n):\n",
    "        visited.append(False)\n",
    "    dfs_rec(adjLists, visited, 1)\n"
   ]
  },
  {
   "cell_type": "code",
   "execution_count": 16,
   "metadata": {
    "collapsed": true
   },
   "outputs": [],
   "source": [
    "pacman = [[],\n",
    "          [2,3,4], \n",
    "          [1,4,6], \n",
    "          [1,4,17], \n",
    "          [1,2,5,3], \n",
    "          [4,6,14], \n",
    "          [2,5,7], \n",
    "          [6,8,9] ,\n",
    "          [7,10,11],\n",
    "          [7,10,13],\n",
    "          [8,9,11,12],\n",
    "         [8,10,12],\n",
    "         [10,11,12,20],\n",
    "         [9,16],\n",
    "         [5,15],\n",
    "         [14,16,18],\n",
    "         [13,15,19],\n",
    "         [3,18,23],\n",
    "         [15,17,21],\n",
    "         [16,20,22],\n",
    "         [12,19,26],\n",
    "         [18,22,24],\n",
    "         [19,21,25],\n",
    "         [17,24,27,33],\n",
    "         [21,23,29],\n",
    "         [22,26,30],\n",
    "         [20,26,32,36],\n",
    "         [23,28,33],\n",
    "         [27,29,34],\n",
    "         [24,26,30],\n",
    "         [25,29,31],\n",
    "         [30,32,35],\n",
    "         [31,26,36],\n",
    "         [23,27,34],\n",
    "         [28,33,35],\n",
    "         [31,34,36],\n",
    "         [26,32,35]]"
   ]
  },
  {
   "cell_type": "code",
   "execution_count": 17,
   "metadata": {
    "collapsed": false
   },
   "outputs": [
    {
     "name": "stdout",
     "output_type": "stream",
     "text": [
      "1\n",
      "2\n",
      "4\n",
      "5\n",
      "6\n",
      "7\n",
      "8\n",
      "10\n",
      "9\n",
      "13\n",
      "16\n",
      "15\n",
      "14\n",
      "18\n",
      "17\n",
      "3\n",
      "23\n",
      "24\n",
      "21\n",
      "22\n",
      "19\n",
      "20\n",
      "12\n",
      "11\n",
      "26\n",
      "32\n",
      "31\n",
      "30\n",
      "25\n",
      "29\n",
      "35\n",
      "34\n",
      "28\n",
      "27\n",
      "33\n",
      "36\n"
     ]
    }
   ],
   "source": [
    "dfs(pacman)"
   ]
  },
  {
   "cell_type": "code",
   "execution_count": null,
   "metadata": {
    "collapsed": true
   },
   "outputs": [],
   "source": [
    "import time\n",
    "tic = time.clock()#get start time\n",
    "toc = time.clock()#get final time\n",
    "def timer_analysis(n):\n",
    "    results = []\n",
    "    acct = Counter()\n",
    "    for i in range(n):\n",
    "        random.shuffle(l)\n",
    "        acct.reset()\n",
    "        tic = time.clock()\n",
    "        dfs(pacman,n)\n",
    "        toc = time.clock()\n",
    "        results.append((toc-tic))\n",
    "    return results"
   ]
  },
  {
   "cell_type": "markdown",
   "metadata": {},
   "source": [
    "# Identificar si hay ciclos en un grafo"
   ]
  },
  {
   "cell_type": "code",
   "execution_count": 108,
   "metadata": {
    "collapsed": false
   },
   "outputs": [],
   "source": [
    "global cont\n",
    "def dfs_rec(adjLists, visited, v,lista):\n",
    "    global cont\n",
    "    visited[v] = True\n",
    "    for w in adjLists[v]:\n",
    "        if(not visited[w]):\n",
    "            lista.append(v)\n",
    "            dfs_rec(adjLists, visited, w,lista)\n",
    "        else:\n",
    "            cont+=1\n",
    "\n",
    "def dfs_ciclo(adjLists):\n",
    "    global cont\n",
    "    cont=0\n",
    "    visited = []\n",
    "    n = len(adjLists)\n",
    "\n",
    "        \n",
    "    for i in range(n):\n",
    "        for j in range(n):\n",
    "            visited.append(False)\n",
    "\n",
    "        lista=[]\n",
    "        dfs_rec(adjLists, visited, i,lista)\n",
    "        visited = []\n",
    "    if cont>0:\n",
    "        print ('El grafo tiene ciclos')\n",
    "    else:\n",
    "        print ('El grafo no tiene ciclos')"
   ]
  },
  {
   "cell_type": "code",
   "execution_count": 110,
   "metadata": {
    "collapsed": false
   },
   "outputs": [
    {
     "name": "stdout",
     "output_type": "stream",
     "text": [
      "El grafo no tiene ciclos\n"
     ]
    }
   ],
   "source": [
    "graph_example_1 = { 0 : [1],\n",
    "                    1 : [2],\n",
    "                    2 : [3],\n",
    "                    3 : []}\n",
    "\n",
    "dfs_ciclo(graph_example_1)"
   ]
  },
  {
   "cell_type": "markdown",
   "metadata": {},
   "source": [
    "# Identificar si un grafo es bipartito"
   ]
  },
  {
   "cell_type": "code",
   "execution_count": 132,
   "metadata": {
    "collapsed": true
   },
   "outputs": [],
   "source": [
    "def bipartito(adjLists,inicio):\n",
    "    n = len(adjLists)\n",
    "    color=[]\n",
    "    visited = []\n",
    "    for k in range(n):\n",
    "        visited.append(False)\n",
    "        color.append(0)\n",
    "    color[0]=1\n",
    "    sol=True\n",
    "    for i in range(n):\n",
    "        for j in adjLists[i]:\n",
    "            if color[j]==0:\n",
    "                if color[i]==1:\n",
    "                    color[j]=2\n",
    "                else:\n",
    "                    color[j]=1\n",
    "            else:\n",
    "                if color[j]==color[i]:\n",
    "                    sol=False\n",
    "            \n",
    "    print (sol)  "
   ]
  },
  {
   "cell_type": "code",
   "execution_count": 133,
   "metadata": {
    "collapsed": false
   },
   "outputs": [
    {
     "name": "stdout",
     "output_type": "stream",
     "text": [
      "False\n"
     ]
    }
   ],
   "source": [
    "graph_example_1 = { 0 : [3,5],\n",
    "                    1 : [2,4,5],\n",
    "                    2 : [1,3,5],\n",
    "                    3 : [2,0],\n",
    "                    4 : [1,5],\n",
    "                    5 : [1,2,4,0]}\n",
    "\n",
    "bipartito(graph_example_1,0)"
   ]
  },
  {
   "cell_type": "markdown",
   "metadata": {},
   "source": [
    "# Dijkstra sin pesos"
   ]
  },
  {
   "cell_type": "code",
   "execution_count": 142,
   "metadata": {
    "collapsed": true
   },
   "outputs": [],
   "source": [
    "from heapq import heappush, heappop\n",
    "\n",
    "def updateheap(heap,d,v):\n",
    "    for i in range(len(heap)):\n",
    "        if heap[i][1] == v:\n",
    "            heap[i][0] = d\n",
    "            fix_minheap(heap,i) # heap=heapify(heap) ineficient      \n",
    "            break    \n",
    "\n",
    "def fix_minheap(heap, i):\n",
    "    if i == 0: return  \n",
    "    p = int(i/2) #parent  \n",
    "    if p >= 0 and heap[p][0] > heap[i][0]:\n",
    "        heap[i], heap[p] = heap[p], heap[i]\n",
    "        fix_minheap(heap,p)   \n",
    "            \n",
    "def Dijkstra(G,start):\n",
    "        \n",
    "    D = {} # dictionary of final distances\n",
    "    for v in G:\n",
    "        D[v] = float('inf')\n",
    "    D[start] = 0\n",
    "    \n",
    "    P = {} # dictionary of predecessors\n",
    "    \n",
    "    Q=[] #  priority queue est.dist. of non-final vert.\n",
    "    for v in G:\n",
    "        item = []\n",
    "        item.append(D[v])\n",
    "        item.append(v)\n",
    "        heappush(Q,item)\n",
    "    \n",
    "    \n",
    "    #S = []\n",
    "    while Q:\n",
    "        u = heappop(Q)[1]\n",
    "        #S.append(u)\n",
    "        for v in G[u]:\n",
    "            newDuv = D[u] + 1\n",
    "            \n",
    "            if newDuv < D[v]:\n",
    "                P[v] = u\n",
    "                D[v] = newDuv\n",
    "                updateheap(Q,D[v],v)\n",
    "    return D,P\n"
   ]
  },
  {
   "cell_type": "code",
   "execution_count": 143,
   "metadata": {
    "collapsed": false
   },
   "outputs": [
    {
     "name": "stdout",
     "output_type": "stream",
     "text": [
      "({'v': 2, 'u': 1, 'x': 1, 's': 0, 'y': 2}, {'v': 'u', 'u': 's', 'x': 's', 'y': 'x'})\n"
     ]
    }
   ],
   "source": [
    "G = {'s': {'u':10, 'x':5},\n",
    "    'u': {'v':1, 'x':2},\n",
    "    'v': {'y':4},\n",
    "    'x':{'u':3,'v':9,'y':2},\n",
    "    'y':{'s':7,'v':6}}\n",
    "\n",
    "print(Dijkstra(G,'s'))"
   ]
  },
  {
   "cell_type": "code",
   "execution_count": null,
   "metadata": {
    "collapsed": true
   },
   "outputs": [],
   "source": []
  }
 ],
 "metadata": {
  "anaconda-cloud": {},
  "kernelspec": {
   "display_name": "Python [default]",
   "language": "python",
   "name": "python3"
  },
  "language_info": {
   "codemirror_mode": {
    "name": "ipython",
    "version": 3
   },
   "file_extension": ".py",
   "mimetype": "text/x-python",
   "name": "python",
   "nbconvert_exporter": "python",
   "pygments_lexer": "ipython3",
   "version": "3.5.2"
  }
 },
 "nbformat": 4,
 "nbformat_minor": 1
}
