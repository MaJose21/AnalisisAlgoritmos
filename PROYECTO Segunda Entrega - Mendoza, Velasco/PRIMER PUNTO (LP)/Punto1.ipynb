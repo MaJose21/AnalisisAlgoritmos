{
 "cells": [
  {
   "cell_type": "markdown",
   "metadata": {},
   "source": [
    "# PROYECTO DE ANÁLISIS DE ALGORITMOS - Primer punto\n",
    "\n",
    "(LP) Suponga que se planea construir una nueva cadena de tiendas en una ciudad dada, usted tiene identificado una serie de ubicaciones potenciales en diferentes barrios. Además, asuma que la demanda de productos en cada barrio de la ciudad es conocida. Si usted quiere construir exactamente k tiendas, ¿dónde debería localizarlas de forma que minimice la distancia promedio de los clientes? ¿Si en lugar usted dese construir una cantidad variable de tiendas, y el costo de construir una tienda en cada sitio es conocido, ¿dónde debería construir las tiendas de forma que minimice el costo total de la construcción y la distancia promedio de los clientes?\n"
   ]
  },
  {
   "cell_type": "markdown",
   "metadata": {},
   "source": [
    "# Algoritmo de FloydWarshall"
   ]
  },
  {
   "cell_type": "code",
   "execution_count": 1,
   "metadata": {
    "collapsed": true
   },
   "outputs": [],
   "source": [
    "import numpy as np"
   ]
  },
  {
   "cell_type": "code",
   "execution_count": 2,
   "metadata": {
    "collapsed": true
   },
   "outputs": [],
   "source": [
    "def FloydWarshall(W):\n",
    "    n = W.shape[0]\n",
    "    D_list = []#Save each D^{(k)} matrix\n",
    "    D_list.append(W[:,:])#D^{(0)}\n",
    "    for k in range(n):        \n",
    "        D_k = D_list[k][:,:]\n",
    "        for i in range(n):\n",
    "            for j in range(n):\n",
    "                D_k[i,j] = min(D_list[k][i,j], D_list[k][i,k]+D_list[k][k,j])        \n",
    "        D_list.append(np.copy(D_k))\n",
    "    return D_k, D_list"
   ]
  },
  {
   "cell_type": "code",
   "execution_count": 3,
   "metadata": {
    "collapsed": true
   },
   "outputs": [],
   "source": [
    "from itertools import count, product, islice\n",
    "from string import ascii_uppercase\n",
    "\n",
    "def multiletters(seq):\n",
    "    for n in count(1):\n",
    "        for s in product(seq, repeat=n):\n",
    "            yield ''.join(s)"
   ]
  },
  {
   "cell_type": "markdown",
   "metadata": {},
   "source": [
    "# Cálculo sin costos"
   ]
  },
  {
   "cell_type": "code",
   "execution_count": 4,
   "metadata": {
    "collapsed": false
   },
   "outputs": [],
   "source": [
    "def tienda(ki,W,nombres):\n",
    "    D_n, Ds = FloydWarshall(W)\n",
    "    W = D_n\n",
    "    C = [['' , D_n]];\n",
    "    cont = 0;\n",
    "    for f in range(1,ki):\n",
    "        cont = cont + len(nombres) ** f\n",
    "    lista = list(islice(multiletters(nombres), cont))\n",
    "    \n",
    "    for p  in range(len(lista)): \n",
    "        cad = lista[p];\n",
    "        co = cad[len(cad)-1];\n",
    "        for w in range(len(nombres)):\n",
    "            if(co == nombres[w]):\n",
    "                j = w;\n",
    "        #cad = nombres[j];\n",
    "        ca = cad[:len(cad)-1];\n",
    "\n",
    "\n",
    "        #busca la cadena en la lista y obtiene la matriz\n",
    "        for k in range(len(C)):\n",
    "            if(C[k][0] == ca):\n",
    "                mati = C[k][1]\n",
    "\n",
    "        m = np.ones((len(W),len(W))) * 9999\n",
    "\n",
    "        for l in range(len(W)):   \n",
    "            for k in range(len(W)):\n",
    "                m[k,l] = min(mati[k,j] , W[k,l] );\n",
    "\n",
    "        temp = [cad , m];\n",
    "        C.append(temp);\n",
    "   \n",
    "    \n",
    "    cont = 0;\n",
    "    for f in range(1,ki-1):\n",
    "      \n",
    "        cont = cont + len(nombres) ** f\n",
    "        \n",
    "    minimo = 99999;\n",
    "    columna = [];\n",
    "    \n",
    "    for i in range(cont,len(C)):\n",
    "        mx = C[i][1];\n",
    "        for j in range(len(W)):\n",
    "            conti = 0;\n",
    "            for k in range(len(W)):\n",
    "                conti = conti + mx[k,j];\n",
    "            if(conti <= minimo):\n",
    "                minimo = conti;\n",
    "                columna = mx[:,j];\n",
    "    \n",
    "    print \"Minima distancia \",minimo\n",
    "    print \"Columna\" , columna\n",
    "    \n",
    "    print\"Tiendas Escogidas: \"\n",
    "    for i in range(len(columna)):\n",
    "        if(columna[i]==0):\n",
    "            print nombres[i];\n",
    "    \n",
    "    "
   ]
  },
  {
   "cell_type": "markdown",
   "metadata": {},
   "source": [
    "# Cálculo con costos"
   ]
  },
  {
   "cell_type": "code",
   "execution_count": 5,
   "metadata": {
    "collapsed": false
   },
   "outputs": [],
   "source": [
    "def tiendaCostos(ki,W,nombres,costos):\n",
    "    D_n, Ds = FloydWarshall(W)\n",
    "    W = D_n\n",
    "    C = [['' , D_n]];\n",
    "    cont = 0;\n",
    "    for f in range(1,ki):\n",
    "        cont = cont + len(nombres) ** f\n",
    "    lista = list(islice(multiletters(nombres), cont))\n",
    "    \n",
    "    for p  in range(len(lista)): \n",
    "        cad = lista[p];\n",
    "        co = cad[len(cad)-1];\n",
    "        for w in range(len(nombres)):\n",
    "            if(co == nombres[w]):\n",
    "                j = w;\n",
    "        #cad = nombres[j];\n",
    "        ca = cad[:len(cad)-1];\n",
    "\n",
    "\n",
    "        #busca la cadena en la lista y obtiene la matriz\n",
    "        for k in range(len(C)):\n",
    "            if(C[k][0] == ca):\n",
    "                mati = C[k][1]\n",
    "\n",
    "        m = np.ones((len(W),len(W))) * 9999\n",
    "\n",
    "        for l in range(len(W)):   \n",
    "            for k in range(len(W)):\n",
    "                m[k,l] = min(mati[k,j] , W[k,l] );\n",
    "\n",
    "        temp = [cad , m];\n",
    "        C.append(temp);\n",
    "    \n",
    "    cont = 0;\n",
    "    for f in range(1,ki-1):\n",
    "        \n",
    "        cont = cont + len(nombres) ** f\n",
    "        \n",
    "    minimo = 99999;\n",
    "    columna = [];\n",
    "\n",
    "    #if cont <> 0:\n",
    "    #    cont = cont + 1\n",
    "    for i in range(cont,len(C)):\n",
    "        mx = C[i][1];\n",
    "        for j in range(len(W)):\n",
    "            conti = 0;\n",
    "            for k in range(len(W)):\n",
    "                conti = conti + mx[k,j];\n",
    "                if(mx[k,j] == 0):\n",
    "                    conti = conti + costos[k]\n",
    "            if(conti <= minimo):\n",
    "                minimo = conti;\n",
    "                columna = mx[:,j];\n",
    "    \n",
    "    print \"Minima distancia \",minimo\n",
    "    print \"Columna\" , columna\n",
    "    \n",
    "    print\"Tiendas Escogidas: \"\n",
    "    for i in range(len(columna)):\n",
    "        if(columna[i]==0):\n",
    "            print nombres[i];\n",
    "    \n",
    "    "
   ]
  },
  {
   "cell_type": "markdown",
   "metadata": {},
   "source": [
    "# Lectura de archivos sin costo"
   ]
  },
  {
   "cell_type": "code",
   "execution_count": 6,
   "metadata": {
    "collapsed": false
   },
   "outputs": [],
   "source": [
    "def leerSinCosto(archivo):\n",
    "    file = open(archivo, \"r\") \n",
    "    k=int(file.readline())\n",
    "    cont=0\n",
    "    linea=file.readline()\n",
    "    total=0\n",
    "    lista=[]\n",
    "    nombres=[]\n",
    "    while linea:\n",
    "        cont=0\n",
    "        for w in linea.split():\n",
    "            if cont==0:\n",
    "                total+=1\n",
    "                cont+=1\n",
    "                nombres.append(w)\n",
    "            else:\n",
    "                lista.append(w)\n",
    "        linea=file.readline()\n",
    "    matriz=np.zeros((total, total))\n",
    "    i=0\n",
    "    j=0\n",
    "    for l in lista:\n",
    "        matriz[j][i]=l\n",
    "        i+=1\n",
    "        if i==total:\n",
    "            j+=1\n",
    "            i=0\n",
    "    return (k,matriz,nombres)\n"
   ]
  },
  {
   "cell_type": "markdown",
   "metadata": {},
   "source": [
    "# Lectura de archivos con costo"
   ]
  },
  {
   "cell_type": "code",
   "execution_count": 7,
   "metadata": {
    "collapsed": true
   },
   "outputs": [],
   "source": [
    "def leerConCosto(archivo):\n",
    "    file = open(archivo, \"r\") \n",
    "    k=int(file.readline())\n",
    "    cont=0\n",
    "    linea=file.readline()\n",
    "    total=0\n",
    "    lista=[]\n",
    "    nombres=[]\n",
    "    costo=[]\n",
    "    while linea:\n",
    "        cont=0\n",
    "        for w in linea.split():\n",
    "            if cont==0:\n",
    "                total+=1\n",
    "                cont+=1\n",
    "                nombres.append(w)\n",
    "            elif cont==1:\n",
    "                costo.append(int(w))\n",
    "                cont+=1\n",
    "            else:\n",
    "                lista.append(w)\n",
    "        linea=file.readline()\n",
    "    matriz=np.zeros((total, total))\n",
    "    i=0\n",
    "    j=0\n",
    "    for l in lista:\n",
    "        matriz[j][i]=l\n",
    "        i+=1\n",
    "        if i==total:\n",
    "            j+=1\n",
    "            i=0\n",
    "       \n",
    "    return (k,matriz,nombres,costo)"
   ]
  },
  {
   "cell_type": "markdown",
   "metadata": {},
   "source": [
    "# Caso 1"
   ]
  },
  {
   "cell_type": "markdown",
   "metadata": {
    "collapsed": true
   },
   "source": [
    "<h3>Sin costo</h3>"
   ]
  },
  {
   "cell_type": "code",
   "execution_count": 8,
   "metadata": {
    "collapsed": false
   },
   "outputs": [
    {
     "name": "stdout",
     "output_type": "stream",
     "text": [
      "Minima distancia  23.0\n",
      "Columna [ 6.  0.  9.  8.]\n",
      "Tiendas Escogidas: \n",
      "B\n"
     ]
    }
   ],
   "source": [
    "k1,matriz1,nombres1=leerSinCosto(\"input_n5_k1\")\n",
    "tienda(k1,matriz1,nombres1);"
   ]
  },
  {
   "cell_type": "markdown",
   "metadata": {
    "collapsed": true
   },
   "source": [
    "<h3>Con costo</h3>"
   ]
  },
  {
   "cell_type": "code",
   "execution_count": 9,
   "metadata": {
    "collapsed": false
   },
   "outputs": [
    {
     "name": "stdout",
     "output_type": "stream",
     "text": [
      "Minima distancia  39.0\n",
      "Columna [ 6.  0.  9.  8.]\n",
      "Tiendas Escogidas: \n",
      "B\n"
     ]
    }
   ],
   "source": [
    "k1b,matriz1b,nombres1b,costos1b=leerConCosto(\"input_n5_k1_c\")\n",
    "tiendaCostos(k1b,matriz1b,nombres1b,costos1b);"
   ]
  },
  {
   "cell_type": "markdown",
   "metadata": {},
   "source": [
    "# Caso 2"
   ]
  },
  {
   "cell_type": "markdown",
   "metadata": {
    "collapsed": true
   },
   "source": [
    "<h3>Sin costo</h3>"
   ]
  },
  {
   "cell_type": "code",
   "execution_count": 10,
   "metadata": {
    "collapsed": false
   },
   "outputs": [
    {
     "name": "stdout",
     "output_type": "stream",
     "text": [
      "Minima distancia  8.0\n",
      "Columna [ 0.  6.  0.  2.]\n",
      "Tiendas Escogidas: \n",
      "A\n",
      "C\n"
     ]
    }
   ],
   "source": [
    "k2,matriz2,nombres2=leerSinCosto(\"input_n5_k2\")\n",
    "tienda(k2,matriz2,nombres2);"
   ]
  },
  {
   "cell_type": "markdown",
   "metadata": {
    "collapsed": true
   },
   "source": [
    "<h3>Con costo</h3>"
   ]
  },
  {
   "cell_type": "code",
   "execution_count": 11,
   "metadata": {
    "collapsed": false,
    "scrolled": false
   },
   "outputs": [
    {
     "name": "stdout",
     "output_type": "stream",
     "text": [
      "Minima distancia  39.0\n",
      "Columna [ 6.  0.  9.  8.]\n",
      "Tiendas Escogidas: \n",
      "B\n"
     ]
    }
   ],
   "source": [
    "k2b,matriz2b,nombres2b,costos2b=leerConCosto(\"input_n5_k2_c\")\n",
    "tiendaCostos(k2b,matriz2b,nombres2b,costos2b);"
   ]
  },
  {
   "cell_type": "markdown",
   "metadata": {},
   "source": [
    "# Caso 3"
   ]
  },
  {
   "cell_type": "markdown",
   "metadata": {
    "collapsed": true
   },
   "source": [
    "<h3>Sin costo</h3>"
   ]
  },
  {
   "cell_type": "code",
   "execution_count": 12,
   "metadata": {
    "collapsed": false
   },
   "outputs": [
    {
     "name": "stdout",
     "output_type": "stream",
     "text": [
      "Minima distancia  2.0\n",
      "Columna [ 2.  0.  0.  0.]\n",
      "Tiendas Escogidas: \n",
      "B\n",
      "C\n",
      "D\n"
     ]
    }
   ],
   "source": [
    "k3,matriz3,nombres3=leerSinCosto(\"input_n5_k3\")\n",
    "tienda(k3,matriz3,nombres3);"
   ]
  },
  {
   "cell_type": "markdown",
   "metadata": {
    "collapsed": true
   },
   "source": [
    "<h3>Con costo</h3>"
   ]
  },
  {
   "cell_type": "code",
   "execution_count": 13,
   "metadata": {
    "collapsed": false
   },
   "outputs": [
    {
     "name": "stdout",
     "output_type": "stream",
     "text": [
      "Minima distancia  39.0\n",
      "Columna [ 6.  0.  9.  8.]\n",
      "Tiendas Escogidas: \n",
      "B\n"
     ]
    }
   ],
   "source": [
    "k3b,matriz3b,nombres3b,costos3b=leerConCosto(\"input_n5_k3_c\")\n",
    "tiendaCostos(k3b,matriz3b,nombres3b,costos3b);"
   ]
  }
 ],
 "metadata": {
  "anaconda-cloud": {},
  "kernelspec": {
   "display_name": "Python [conda root]",
   "language": "python",
   "name": "conda-root-py"
  },
  "language_info": {
   "codemirror_mode": {
    "name": "ipython",
    "version": 2
   },
   "file_extension": ".py",
   "mimetype": "text/x-python",
   "name": "python",
   "nbconvert_exporter": "python",
   "pygments_lexer": "ipython2",
   "version": "2.7.12"
  }
 },
 "nbformat": 4,
 "nbformat_minor": 1
}
