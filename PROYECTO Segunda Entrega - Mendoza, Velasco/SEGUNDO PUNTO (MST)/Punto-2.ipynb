{
 "cells": [
  {
   "cell_type": "markdown",
   "metadata": {},
   "source": [
    "# PROYECTO DE ANÁLISIS DE ALGORITMOS - Segundo punto\n",
    "(MST). Dado un grafo G = (V, E) con n vértices y m aristas. (El grafo podría representar una red telefónica). Cada arista es coloreada azul o roja. También está dado un parámetro k como parte de la entrada. Proponga un algoritmo que encuentre un árbol de expansión sobre G con exactamente k aristas azules, y exactamente n-k-1 aristas rojas. Determine el tiempo de ejecución del algoritmo y muestre que es correcto.\n"
   ]
  },
  {
   "cell_type": "markdown",
   "metadata": {},
   "source": [
    "# Cálculo del arból de mínima expansión con k aristas azules y n-k-1 aristas rojas"
   ]
  },
  {
   "cell_type": "code",
   "execution_count": 1,
   "metadata": {
    "collapsed": false
   },
   "outputs": [],
   "source": [
    "global M\n",
    "global grafo\n",
    "import matplotlib.pyplot as plt\n",
    "def inicio(k,matriz,color,azules,rojas,nodoActual,totalNodos,acum,G,nombresNodo,visitados):\n",
    "    global M\n",
    "    global grafo\n",
    "    M=np.ones((k+1,totalNodos-k))*float('inf')\n",
    "    auxRojo=float('inf')\n",
    "    auxAzul=float('inf')\n",
    "    posRojo=-1\n",
    "    posAzul=-1\n",
    "    for i in range(totalNodos):            \n",
    "        if (color[nodoActual,i]==0):\n",
    "            if matriz[nodoActual,i]<auxAzul and matriz[nodoActual,i]!=float('inf'):\n",
    "                auxAzul=matriz[nodoActual,i]\n",
    "                posAzul=i\n",
    "        if(color[nodoActual,i]==1):\n",
    "            if matriz[nodoActual,i]<auxRojo and matriz[nodoActual,i]>0:\n",
    "                auxRojo=matriz[nodoActual,i]\n",
    "                posRojo=i\n",
    "                \n",
    "    visitados[nodoActual]=1\n",
    "    visitados2 = [];\n",
    "    for l in visitados:\n",
    "        visitados2.append(l);\n",
    "    punto2(k,matriz,color,azules,rojas,posAzul,totalNodos,acum,G,nombresNodo,visitados)\n",
    "\n",
    "    punto2(k,matriz,color,azules,rojas,posRojo,totalNodos,acum,G,nombresNodo,visitados2)\n",
    "    print 'Solucion: ',M[k,totalNodos-k-1]\n",
    "    aristasRojas=[]\n",
    "    aristasAzules=[]\n",
    "    for e in grafo.edges_iter():\n",
    "        if color[e[0]][e[1]]==1:\n",
    "            aristasRojas.append(e)\n",
    "        if color[e[0]][e[1]]==0:\n",
    "            aristasAzules.append(e)\n",
    "            \n",
    "    print 'Azules: ',aristasAzules\n",
    "    print 'Rojas: ',aristasRojas\n",
    "    #nx.draw(grafo,with_labels = True)\n",
    "    \n",
    "    #plt.show()\n",
    "    \n",
    "def punto2(k,matriz,color,azules,rojas,nodoActual,totalNodos,acum,G,nombresNodo,visitados):\n",
    "    global M\n",
    "    global grafo\n",
    "    visitados[nodoActual]=1\n",
    "    visitados2 = [];\n",
    "    for l in visitados:\n",
    "        visitados2.append(l);\n",
    "    visitados3 = [];\n",
    "    for l in visitados:\n",
    "        visitados3.append(l);\n",
    "\n",
    "    auxRojo=float('inf')\n",
    "    auxAzul=float('inf')\n",
    "    posRojo=-1\n",
    "    posAzul=-1\n",
    "    for i in range(totalNodos):            \n",
    "        if visitados[i]==1 :\n",
    "            if (color[nodoActual,i]==0):\n",
    "                if matriz[nodoActual,i]<auxAzul and matriz[nodoActual,i]>0:\n",
    "                    auxAzul=matriz[nodoActual,i]\n",
    "                    posAzul=i\n",
    "            if(color[nodoActual,i]==1):\n",
    "                if matriz[nodoActual,i]<auxRojo and matriz[nodoActual,i]>0:\n",
    "                    auxRojo=matriz[nodoActual,i]\n",
    "                    posRojo=i\n",
    "    G2=nx.Graph()\n",
    "    G2.add_edges_from(G.edges());\n",
    "    G3=nx.Graph()\n",
    "    G3.add_edges_from(G.edges());\n",
    "    \n",
    "    if azules<k:\n",
    "        if posAzul!=-1:\n",
    "            if M[azules+1,rojas]>(acum+auxAzul):\n",
    "                M[azules+1,rojas]=acum+auxAzul\n",
    "                G2.add_edge(nombresNodo[nodoActual],nombresNodo[posAzul],r=auxAzul,color='b')\n",
    "                if azules+1==k and rojas==(totalNodos-k-1):\n",
    "                    grafo=G2\n",
    "                else:\n",
    "                    sig=siguiente(visitados3, matriz,totalNodos)\n",
    "                    if sig!=-1:\n",
    "                        az = azules;\n",
    "                        ro = rojas;\n",
    "                        punto2(k,matriz,color,az+1,ro,sig,totalNodos,acum+auxAzul,G2,nombresNodo,visitados3)\n",
    "                        \n",
    "                    \n",
    "    if rojas<(totalNodos-k-1):\n",
    "        if posRojo!=-1:\n",
    "            if M[azules,rojas+1]>(acum+auxRojo):\n",
    "                M[azules,rojas+1]=acum+auxRojo\n",
    "               \n",
    "                G3.add_edge(nombresNodo[nodoActual],nombresNodo[posRojo],r=auxRojo,color='r')\n",
    "                if azules==k and rojas+1==(totalNodos-k-1):\n",
    "                    grafo=G\n",
    "                else:\n",
    "                    sig=siguiente(visitados2, matriz,totalNodos)\n",
    "                    if sig!=-1:\n",
    "                        az = azules;\n",
    "                        ro = rojas;\n",
    "                        punto2(k,matriz,color,az,ro+1,sig,totalNodos,acum+auxRojo,G3,nombresNodo,visitados2)\n",
    "\n",
    "\n",
    "def siguiente(visitados, matriz, total):\n",
    "    for i in range(total):\n",
    "        if visitados[i]==1:\n",
    "            for j in range(total):\n",
    "                if matriz[i,j]!=0:\n",
    "                    if visitados[j]==0:\n",
    "                        return j\n",
    "    return -1"
   ]
  },
  {
   "cell_type": "markdown",
   "metadata": {},
   "source": [
    "# Lectura de archivos"
   ]
  },
  {
   "cell_type": "code",
   "execution_count": 2,
   "metadata": {
    "collapsed": true
   },
   "outputs": [],
   "source": [
    "def leer(archivo):\n",
    "    file = open(archivo, \"r\") \n",
    "    totalNodos=int(file.readline())\n",
    "    k=int(file.readline())\n",
    "    matriz=np.zeros((totalNodos, totalNodos))\n",
    "    color=np.zeros((totalNodos, totalNodos))-1\n",
    "    contColum=-1\n",
    "    for i in range(totalNodos):\n",
    "        words = file.readline().split()\n",
    "        contColum+=1\n",
    "        cont=contColum\n",
    "        for w in words:\n",
    "            if w!=\"Inf\":\n",
    "                matriz[i][cont]=w[0]\n",
    "                matriz[cont][i]=w[0]\n",
    "                if w[2]==\"R\":\n",
    "                    color[i][cont]=1\n",
    "                    color[cont][i]=1\n",
    "                elif w[2]==\"B\":\n",
    "                    color[i][cont]=0\n",
    "                    color[cont][i]=0\n",
    "            cont+=1\n",
    "    return (totalNodos,k,matriz,color)"
   ]
  },
  {
   "cell_type": "markdown",
   "metadata": {},
   "source": [
    "# Caso 1"
   ]
  },
  {
   "cell_type": "code",
   "execution_count": 3,
   "metadata": {
    "collapsed": false
   },
   "outputs": [
    {
     "name": "stdout",
     "output_type": "stream",
     "text": [
      "Solucion:  21.0\n",
      "Azules:  [(0.0, 4.0), (1.0, 3.0), (2.0, 6.0), (6.0, 7.0)]\n",
      "Rojas:  [(0.0, 2.0), (1.0, 2.0), (1.0, 5.0)]\n"
     ]
    },
    {
     "name": "stderr",
     "output_type": "stream",
     "text": [
      "C:\\Users\\USER\\Anaconda2\\lib\\site-packages\\ipykernel\\__main__.py:33: VisibleDeprecationWarning: using a non-integer number instead of an integer will result in an error in the future\n",
      "C:\\Users\\USER\\Anaconda2\\lib\\site-packages\\ipykernel\\__main__.py:35: VisibleDeprecationWarning: using a non-integer number instead of an integer will result in an error in the future\n"
     ]
    }
   ],
   "source": [
    "import numpy as np\n",
    "import networkx as nx\n",
    "\n",
    "totalNodos,k,matriz,color=leer(\"input_n8_b4_r3\")\n",
    "G=nx.Graph()\n",
    "visitados= np.zeros((totalNodos))\n",
    "nombresNodo= np.zeros((totalNodos))\n",
    "for i in range(totalNodos):\n",
    "    nombresNodo[i]=int(i)\n",
    "inicio(k,matriz,color,0,0,0,totalNodos,0,G,nombresNodo,visitados)\n"
   ]
  },
  {
   "cell_type": "markdown",
   "metadata": {},
   "source": [
    "# Caso 2"
   ]
  },
  {
   "cell_type": "code",
   "execution_count": 4,
   "metadata": {
    "collapsed": false
   },
   "outputs": [
    {
     "name": "stdout",
     "output_type": "stream",
     "text": [
      "Solucion:  22.0\n",
      "Azules:  [(0.0, 4.0), (1.0, 3.0), (2.0, 4.0), (2.0, 6.0), (6.0, 7.0)]\n",
      "Rojas:  [(1.0, 2.0), (1.0, 5.0)]\n"
     ]
    },
    {
     "name": "stderr",
     "output_type": "stream",
     "text": [
      "C:\\Users\\USER\\Anaconda2\\lib\\site-packages\\ipykernel\\__main__.py:33: VisibleDeprecationWarning: using a non-integer number instead of an integer will result in an error in the future\n",
      "C:\\Users\\USER\\Anaconda2\\lib\\site-packages\\ipykernel\\__main__.py:35: VisibleDeprecationWarning: using a non-integer number instead of an integer will result in an error in the future\n"
     ]
    }
   ],
   "source": [
    "import numpy as np\n",
    "import networkx as nx\n",
    "\n",
    "G=nx.Graph()\n",
    "totalNodos,k,matriz,color=leer(\"input_n8_b5_r2\")\n",
    "visitados= np.zeros((totalNodos))\n",
    "nombresNodo= np.zeros((totalNodos))\n",
    "for i in range(totalNodos):\n",
    "    nombresNodo[i]=int(i)\n",
    "inicio(k,matriz,color,0,0,0,totalNodos,0,G,nombresNodo,visitados)\n"
   ]
  }
 ],
 "metadata": {
  "anaconda-cloud": {},
  "kernelspec": {
   "display_name": "Python [default]",
   "language": "python",
   "name": "python2"
  },
  "language_info": {
   "codemirror_mode": {
    "name": "ipython",
    "version": 2
   },
   "file_extension": ".py",
   "mimetype": "text/x-python",
   "name": "python",
   "nbconvert_exporter": "python",
   "pygments_lexer": "ipython2",
   "version": "2.7.12"
  }
 },
 "nbformat": 4,
 "nbformat_minor": 1
}
