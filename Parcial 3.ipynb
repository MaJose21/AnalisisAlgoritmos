{
 "cells": [
  {
   "cell_type": "markdown",
   "metadata": {},
   "source": [
    "# PUNTO 1\n",
    "\n",
    "El siguiente codigo determina si existen 3 puntos colineales de un conjunto de n puntos.\n",
    "Primero llena una matriz con las pendientes entre los puntos. O(n^2)\n",
    "\n",
    "Y luego por cada fila busca dos pendientes repetidas, en caso que hayan dos pendientes iguales significa que hay 3 puntos colineales O(n^2)"
   ]
  },
  {
   "cell_type": "code",
   "execution_count": 1,
   "metadata": {
    "collapsed": false
   },
   "outputs": [],
   "source": [
    "import numpy as np\n",
    "def puntos_colineales(lista):\n",
    "    tam=len(lista)\n",
    "    matriz=np.zeros((tam,tam))\n",
    "    for i in range(tam):\n",
    "        for j in range(tam):\n",
    "            if i!=j:\n",
    "                if lista[j][0]-lista[i][0]!=0:\n",
    "                    matriz[i][j]=(lista[j][1]-lista[i][1])/(lista[j][0]-lista[i][0])\n",
    "                else:\n",
    "                    matriz[i][j]=-float('inf')\n",
    "            else:\n",
    "                matriz[i][j]=-float('inf')\n",
    "\n",
    "    dict={}\n",
    "    for i in range(tam):\n",
    "        for j in range(tam):\n",
    "            if i!=j:\n",
    "                if matriz[i][j]!=-float('inf'):\n",
    "                    if (dict.get(matriz[i][j])):\n",
    "                        \n",
    "                        return True\n",
    "                    else:\n",
    "                        dict[matriz[i][j]]=1\n",
    "        dict.clear()\n",
    "    return False"
   ]
  },
  {
   "cell_type": "code",
   "execution_count": 2,
   "metadata": {
    "collapsed": false
   },
   "outputs": [
    {
     "name": "stdout",
     "output_type": "stream",
     "text": [
      "Existen 3 puntos colineales\n"
     ]
    }
   ],
   "source": [
    "lista=[]\n",
    "P1 = [0.,0.]\n",
    "lista.append(P1)\n",
    "P2 = [3.,4.]\n",
    "lista.append(P2)\n",
    "P3 = [2.,-1.]\n",
    "lista.append(P3)\n",
    "P4 = [-1.,2.]\n",
    "lista.append(P4)\n",
    "P5 = [1.,1.]\n",
    "lista.append(P5)\n",
    "P6 = [3.,3.]\n",
    "lista.append(P6)\n",
    "sol=puntos_colineales(lista)\n",
    "if sol:\n",
    "    print ('Existen 3 puntos colineales')\n",
    "else:\n",
    "    print ('No existen 3 puntos colineales')"
   ]
  },
  {
   "cell_type": "code",
   "execution_count": 3,
   "metadata": {
    "collapsed": false
   },
   "outputs": [
    {
     "name": "stdout",
     "output_type": "stream",
     "text": [
      "No existen 3 puntos colineales\n"
     ]
    }
   ],
   "source": [
    "lista=[]\n",
    "P1 = [0.,0.]\n",
    "lista.append(P1)\n",
    "P2 = [3.,4.]\n",
    "lista.append(P2)\n",
    "P3 = [2.,-1.]\n",
    "lista.append(P3)\n",
    "P4 = [-1.,2.]\n",
    "lista.append(P4)\n",
    "P5 = [1.,1.]\n",
    "lista.append(P5)\n",
    "P6 = [3.,5.]\n",
    "lista.append(P6)\n",
    "sol=puntos_colineales(lista)\n",
    "if sol:\n",
    "    print ('Existen 3 puntos colineales')\n",
    "else:\n",
    "    print ('No existen 3 puntos colineales')"
   ]
  },
  {
   "cell_type": "markdown",
   "metadata": {},
   "source": [
    "# Punto 2\n",
    "\n",
    "Para hallar si un poligono es simple se mira si existen intersecciones entre los segmentos de recta que lo componen. Para esto primero se ordenan los puntos que hacen parte del poligono ( algoritmo merge O(nlogn) ). Luego se recorre la lista ordenada (O(n)), por cada punto si es un punto a la izquierda se mira si hay intersección entre el segmento que contiene ese punto y el segmento inmediatamente anterior, si es un punto a la derecha se mira si hay intersección entre el anterior y siguiente a ese punto.\n",
    "\n",
    "Si en algún caso da que hay intersección, por lo tanto no es un poligono simple, de lo contrario, si lo es.\n"
   ]
  },
  {
   "cell_type": "code",
   "execution_count": 4,
   "metadata": {
    "collapsed": true
   },
   "outputs": [],
   "source": [
    "def mergeSort(alist):\n",
    "    if len(alist)>1:\n",
    "        mid = len(alist)//2\n",
    "        lefthalf = alist[:mid]\n",
    "        righthalf = alist[mid:]\n",
    "\n",
    "        mergeSort(lefthalf)\n",
    "        mergeSort(righthalf)\n",
    "\n",
    "        i=0\n",
    "        j=0\n",
    "        k=0\n",
    "        while i < len(lefthalf) and j < len(righthalf):\n",
    "            if lefthalf[i][0] < righthalf[j][0] or (lefthalf[i][0] == righthalf[j][0] and lefthalf[i][1] < righthalf[j][1]):\n",
    "                alist[k]=lefthalf[i]\n",
    "                i=i+1\n",
    "            else:\n",
    "                alist[k]=righthalf[j]\n",
    "                j=j+1\n",
    "            k=k+1\n",
    "\n",
    "        while i < len(lefthalf):\n",
    "            alist[k]=lefthalf[i]\n",
    "            i=i+1\n",
    "            k=k+1\n",
    "\n",
    "        while j < len(righthalf):\n",
    "            alist[k]=righthalf[j]\n",
    "            j=j+1\n",
    "            k=k+1"
   ]
  },
  {
   "cell_type": "code",
   "execution_count": 5,
   "metadata": {
    "collapsed": false
   },
   "outputs": [],
   "source": [
    "def interseccion(Puntos1,Puntos2):\n",
    "\n",
    "    P1=Puntos1[0]\n",
    "    P2=Puntos1[1]\n",
    "    P3=Puntos2[0]\n",
    "    P4=Puntos2[1]\n",
    "    \n",
    "    \n",
    "    if P2[0]-P1[0]==0 or P4[0]-P3[0]==0:\n",
    "        return False\n",
    "    \n",
    "    m1=(P2[1]-P1[1])/(P2[0]-P1[0])\n",
    "    m2=(P4[1]-P3[1])/(P4[0]-P3[0])\n",
    "\n",
    "    b1= P1[1]-(m1-P1[0])\n",
    "    b2= P3[1]-(m2-P3[0])\n",
    "    if m1-m2==0:\n",
    "        return False\n",
    "    x=(b2-b1)/(m1-m2)\n",
    "    y=(m1*x)+b1\n",
    "\n",
    "    if (P1[0] <= x and P2[0]>=x) or (P1[0] >= x and P2[0]<=x):\n",
    "        if (P1[0] <= y and P2[1]>=y) or (P1[1] >= y and P2[1]<=y):\n",
    "            if (P3[0] <= x and P4[0]>=x) or (P3[0] >= x and P4[0]<=x):\n",
    "                if (P3[1] <= y and P4[1]>=y) or (P3[1] >= y and P4[1]<=y):\n",
    "                    \n",
    "                    return True \n",
    "    return False"
   ]
  },
  {
   "cell_type": "code",
   "execution_count": 6,
   "metadata": {
    "collapsed": true
   },
   "outputs": [],
   "source": [
    "def listaLineas(alist):\n",
    "    diccionario={}\n",
    "    for i in range(len(alist)):\n",
    "        if diccionario.get(alist[i][2]):\n",
    "            diccionario[alist[i][2]][1][0]=alist[i][0]\n",
    "            diccionario[alist[i][2]][1][1]=alist[i][1]\n",
    "        else:\n",
    "            diccionario[alist[i][2]]=[[alist[i][0],alist[i][1]],[-1,-1]]\n",
    "    return diccionario\n"
   ]
  },
  {
   "cell_type": "code",
   "execution_count": 7,
   "metadata": {
    "collapsed": false
   },
   "outputs": [],
   "source": [
    "def poligono_simple(alist):\n",
    "    tam=len(alist)\n",
    "    mergeSort(alist)\n",
    "    sl=[]\n",
    "    diccionario=listaLineas(alist)\n",
    "    dict={alist[0][2]: [alist[0][0],alist[0][1],-1,-1]}\n",
    "    for i in range(1,len(alist)):\n",
    "        if alist[i][3]==0:\n",
    "            if dict.get(alist[i-1][2]):\n",
    "                dict[alist[i-1][2]][3]=alist[i][2]\n",
    "                        \n",
    "            dict[alist[i][2]]=[alist[i][0],alist[i][1],alist[i-1][2],-1]\n",
    "\n",
    "            if len(dict)>0:\n",
    "\n",
    "                puntos1=diccionario[dict[alist[i][2]][2]]\n",
    "                puntos2=diccionario[alist[i][2]]\n",
    "                if interseccion(puntos1,puntos2):\n",
    "                    return True\n",
    "                \n",
    "        if alist[i][3]==1:\n",
    "            \n",
    "            segA=dict[alist[i][2]][2]\n",
    "            segB=dict[alist[i][2]][3]\n",
    "            if segA!=-1 and segB!=-1:\n",
    "\n",
    "                puntos1=diccionario[segA]\n",
    "                puntos2=diccionario[segB]\n",
    "                if interseccion(puntos1,puntos2):\n",
    "                    return True\n",
    "                \n",
    "              \n",
    "            if dict[alist[i][2]][2]!=-1:\n",
    "                dict[ dict[alist[i][2]][2]][3]=dict[alist[i][2]][3]\n",
    "            if dict[alist[i][2]][3]!=-1:\n",
    "                dict[dict[alist[i][2]][3]][2]=dict[alist[i][2]][2]\n",
    "            \n",
    "    return False\n",
    "            \n",
    "            "
   ]
  },
  {
   "cell_type": "code",
   "execution_count": 8,
   "metadata": {
    "collapsed": false
   },
   "outputs": [
    {
     "name": "stdout",
     "output_type": "stream",
     "text": [
      "No es un poligono simple\n"
     ]
    }
   ],
   "source": [
    "from sympy.geometry import *\n",
    "lista=[]\n",
    "# [x,y,linea de la que hace parte, 0 si es izq - 1 si es der]\n",
    "P11 = [1,1,'L1',0]\n",
    "lista.append(P11)\n",
    "P21 = [2,4,'L1',1]\n",
    "lista.append(P21)\n",
    "\n",
    "P22 = [2,4,'L2',0]\n",
    "lista.append(P22)\n",
    "P32 = [7,1,'L2',1]\n",
    "lista.append(P32)\n",
    "\n",
    "P33 = [1,1,'L3',0]\n",
    "lista.append(P33)\n",
    "P43 = [8,4,'L3',1]\n",
    "lista.append(P43)\n",
    "\n",
    "P14 = [7,1,'L4',0]\n",
    "lista.append(P14)\n",
    "P44 = [8,4,'L4',1]\n",
    "lista.append(P44)\n",
    "\n",
    "\n",
    "if poligono_simple(lista):\n",
    "    print('No es un poligono simple')\n",
    "else:\n",
    "    print('Es un poligono simple')"
   ]
  },
  {
   "cell_type": "code",
   "execution_count": 9,
   "metadata": {
    "collapsed": false
   },
   "outputs": [
    {
     "name": "stdout",
     "output_type": "stream",
     "text": [
      "Es un poligono simple\n"
     ]
    }
   ],
   "source": [
    "from sympy.geometry import *\n",
    "lista=[]\n",
    "# [x,y,linea de la que hace parte, 0 si es izq - 1 si es der]\n",
    "\n",
    "P11 = [1,1,'L1',0]\n",
    "lista.append(P11)\n",
    "P21 = [2,4,'L1',1]\n",
    "lista.append(P21)\n",
    "\n",
    "P22 = [2,4,'L2',0]\n",
    "lista.append(P22)\n",
    "P32 = [8,4,'L2',1]\n",
    "lista.append(P32)\n",
    "\n",
    "P33 = [1,1,'L3',0]\n",
    "lista.append(P33)\n",
    "P43 = [7,1,'L3',1]\n",
    "lista.append(P43)\n",
    "\n",
    "P14 = [7,1,'L4',0]\n",
    "lista.append(P14)\n",
    "P44 = [8,4,'L4',1]\n",
    "lista.append(P44)\n",
    "\n",
    "\n",
    "if poligono_simple(lista):\n",
    "    print('No es un poligono simple')\n",
    "else:\n",
    "    print('Es un poligono simple')"
   ]
  }
 ],
 "metadata": {
  "kernelspec": {
   "display_name": "Python [default]",
   "language": "python",
   "name": "python3"
  },
  "language_info": {
   "codemirror_mode": {
    "name": "ipython",
    "version": 3
   },
   "file_extension": ".py",
   "mimetype": "text/x-python",
   "name": "python",
   "nbconvert_exporter": "python",
   "pygments_lexer": "ipython3",
   "version": "3.5.2"
  }
 },
 "nbformat": 4,
 "nbformat_minor": 1
}
