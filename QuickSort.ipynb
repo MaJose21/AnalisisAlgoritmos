{
 "cells": [
  {
   "cell_type": "markdown",
   "metadata": {},
   "source": [
    "<h1>Quick Sort</h1>"
   ]
  },
  {
   "cell_type": "code",
   "execution_count": 1,
   "metadata": {
    "collapsed": false
   },
   "outputs": [],
   "source": [
    "def quicksort(L, first, last):\n",
    "   \n",
    "    i = first\n",
    "    j = last    \n",
    "    pivote = int((L[i] + L[j]) / 2)\n",
    "\n",
    "    while i < j:\n",
    "        while L[i] < pivote:\n",
    "            i+=1\n",
    "        while L[j] > pivote:\n",
    "            j-=1\n",
    "        if i <= j:\n",
    "            x = L[j]\n",
    "            L[j] = L[i]\n",
    "            L[i] = x\n",
    "            i+=1\n",
    "            j-=1\n",
    "        \n",
    "\n",
    "    if first < j:\n",
    "        quicksort(L, first, j)\n",
    "\n",
    "    if last > i:\n",
    "         quicksort(L, i, last)\n",
    "   "
   ]
  },
  {
   "cell_type": "code",
   "execution_count": 2,
   "metadata": {
    "collapsed": false
   },
   "outputs": [
    {
     "name": "stdout",
     "output_type": "stream",
     "text": [
      "[1, 2, 3, 4, 5]\n"
     ]
    }
   ],
   "source": [
    "L = [5,4,3,2,1]\n",
    "quicksort(L,0,len(L)-1)\n",
    "print (L)"
   ]
  },
  {
   "cell_type": "markdown",
   "metadata": {},
   "source": [
    "<h2>Correctitud</h2>\n",
    "<b>Invariante:</b> Teniendo un pivote p en el arreglo, siempre los números que estén a la izquierda deben ser menores y los que estén a la derecha deben ser mayores"
   ]
  },
  {
   "cell_type": "code",
   "execution_count": 68,
   "metadata": {
    "collapsed": false
   },
   "outputs": [],
   "source": [
    "def invariant(A,p, first,last):\n",
    "    arr=list(A)\n",
    "    i=first\n",
    "    j=last\n",
    "    cont=0\n",
    "    tamtotal=last-first+1\n",
    "\n",
    "    while arr[i]<=p:\n",
    "        if i<=j:\n",
    "            i+=1\n",
    "            cont+=1\n",
    "        if i>j:\n",
    "            break\n",
    "    if i<=j:\n",
    "        while arr[i]>p:\n",
    "            if i<=j:\n",
    "                i+=1\n",
    "                cont+=1\n",
    "            if i>j:\n",
    "                break\n",
    "    if cont<tamtotal:\n",
    "        return False\n",
    "\n",
    "    return True"
   ]
  },
  {
   "cell_type": "code",
   "execution_count": 69,
   "metadata": {
    "collapsed": false
   },
   "outputs": [
    {
     "name": "stdout",
     "output_type": "stream",
     "text": [
      "True\n",
      "False\n"
     ]
    }
   ],
   "source": [
    "print (invariant([4,2,5,9,7], 6,0,4))\n",
    "print (invariant([3,8,4,5,1], 6,0,4))"
   ]
  },
  {
   "cell_type": "markdown",
   "metadata": {},
   "source": [
    "Algoritmo de quicksort incluyendo evaluación de la invariante"
   ]
  },
  {
   "cell_type": "code",
   "execution_count": 80,
   "metadata": {
    "collapsed": false
   },
   "outputs": [],
   "source": [
    "def right_quicksort (L, first, last):\n",
    "    try:\n",
    "        i = first\n",
    "        j = last    \n",
    "        pivote = int((L[i] + L[j]) / 2)\n",
    "\n",
    "        while i < j:\n",
    "            while L[i] < pivote:\n",
    "                i+=1\n",
    "            while L[j] > pivote:\n",
    "                j-=1\n",
    "            if i <= j:\n",
    "                x = L[j]\n",
    "                L[j] = L[i]\n",
    "                L[i] = x\n",
    "                i+=1\n",
    "                j-=1\n",
    "                \n",
    "        assert invariant(L,pivote,first,last)\n",
    "            \n",
    "        if first < j:\n",
    "            right_quicksort(L, first, j)\n",
    "\n",
    "        if last > i:\n",
    "             right_quicksort(L, i, last)\n",
    "        assert invariant(L,pivote,first,last)\n",
    "        \n",
    "    except  AssertionError:\n",
    "        print (\"Error en el invariante de ciclo!\")"
   ]
  },
  {
   "cell_type": "code",
   "execution_count": 81,
   "metadata": {
    "collapsed": false
   },
   "outputs": [
    {
     "name": "stdout",
     "output_type": "stream",
     "text": [
      "[1, 2, 3, 4, 5, 6, 7, 9]\n"
     ]
    }
   ],
   "source": [
    "L = [5, 4, 6, 3, 7, 2, 1, 9]\n",
    "right_quicksort(L,0,len(L)-1)\n",
    "print (L)"
   ]
  },
  {
   "cell_type": "code",
   "execution_count": 120,
   "metadata": {
    "collapsed": true
   },
   "outputs": [],
   "source": [
    "def wrong_quicksort (L, first, last):\n",
    "    original_A=list(L)\n",
    "    try:\n",
    "        i = first\n",
    "        j = last    \n",
    "        pivote = int((L[i] + L[j]) / 2)\n",
    "\n",
    "        while i < j:\n",
    "            while L[i] < pivote:\n",
    "                i+=1\n",
    "            while L[j] > pivote:\n",
    "                j-=1\n",
    "            if i <= j:\n",
    "                i+=1\n",
    "                j-=1\n",
    "                \n",
    "        assert invariant(L,pivote,first,last)\n",
    "            \n",
    "        if first < j:\n",
    "            wrong_quicksort(L, first, j)\n",
    "\n",
    "        if last > i:\n",
    "             wrong_quicksort(L, i, last)\n",
    "                \n",
    "        assert invariant(L,pivote,first,last)\n",
    "        \n",
    "    except  AssertionError:\n",
    "        print (\"Error en el invariante de ciclo!\")\n",
    "        print (\"i\", i)\n",
    "        print (\"j\",j)\n",
    "        print (\"Pivote\",pivote)\n",
    "        print (\"Original: \",original_A[first:last+1])\n",
    "        print (\"L:\",L[first:last+1])\n",
    "        "
   ]
  },
  {
   "cell_type": "code",
   "execution_count": 121,
   "metadata": {
    "collapsed": false
   },
   "outputs": [
    {
     "name": "stdout",
     "output_type": "stream",
     "text": [
      "Error en el invariante de ciclo!\n",
      "i 2\n",
      "j 0\n",
      "Pivote 4\n",
      "Original:  [5, 4, 6, 3]\n",
      "L: [5, 4, 6, 3]\n",
      "[5, 4, 6, 3]\n"
     ]
    }
   ],
   "source": [
    "L = [5, 4, 6, 3]\n",
    "wrong_quicksort(L,0,len(L)-1)\n",
    "print (L)"
   ]
  },
  {
   "cell_type": "markdown",
   "metadata": {},
   "source": [
    "<h2>Análisis del tiempo de ejecución</h2>"
   ]
  },
  {
   "cell_type": "code",
   "execution_count": 106,
   "metadata": {
    "collapsed": false
   },
   "outputs": [],
   "source": [
    "class Counter:\n",
    "    '''\n",
    "    Class Counter\n",
    "    Implements a step counter, which is used to compute the number of basic operations performed in\n",
    "    a particular call to a function.\n",
    "    '''\n",
    "    def __init__(self):\n",
    "        self.steps = 0\n",
    "\n",
    "    def reset(self):\n",
    "        self.steps = 0\n",
    "\n",
    "    def count(self):\n",
    "        self.steps += 1\n",
    "\n",
    "    def print_steps(self):\n",
    "        print (\"Number of steps =\", self.steps)\n",
    "\n",
    "def acct_quicksort(L, first, last,acct):\n",
    "   \n",
    "    i = first; acct.count()\n",
    "    j = last  ; acct.count()  \n",
    "    pivote = int((L[i] + L[j]) / 2); acct.count()\n",
    "    acct.count()\n",
    "    while i < j:\n",
    "        acct.count()\n",
    "        while L[i] < pivote:\n",
    "            acct.count()\n",
    "            i+=1; acct.count()\n",
    "        acct.count()\n",
    "        while L[j] > pivote:\n",
    "            acct.count()\n",
    "            j-=1; acct.count()\n",
    "        if i <= j:\n",
    "            acct.count()\n",
    "            x = L[j]; acct.count()\n",
    "            L[j] = L[i]; acct.count()\n",
    "            L[i] = x; acct.count()\n",
    "            i+=1; acct.count()\n",
    "            j-=1; acct.count()\n",
    "        \n",
    "\n",
    "    if first < j:\n",
    "        acct.count()\n",
    "        acct_quicksort(L, first, j,acct); acct.count()\n",
    "\n",
    "    if last > i:\n",
    "        acct.count()\n",
    "        acct_quicksort(L, i, last,acct); acct.count()\n",
    "    "
   ]
  },
  {
   "cell_type": "code",
   "execution_count": 111,
   "metadata": {
    "collapsed": false
   },
   "outputs": [
    {
     "name": "stdout",
     "output_type": "stream",
     "text": [
      "Number of steps = 186\n"
     ]
    }
   ],
   "source": [
    "import numpy as np\n",
    "B = np.random.permutation(range(0,10))\n",
    "acct = Counter()\n",
    "acct_quicksort(B, 0,len(B)-1,acct)\n",
    "acct.print_steps()"
   ]
  },
  {
   "cell_type": "markdown",
   "metadata": {},
   "source": [
    "<b>Análisis experimental</b><br>\n",
    "Ahora vamos a analizar el comportamiento del algoritmo cuando el tamaño de la entrada varía. La siguiente función genera arreglos al azar de tamaño 1 a n, llama la función acct_quicksort(B, 0,len(B)-1,acct) y contabiliza el número de pasos. "
   ]
  },
  {
   "cell_type": "code",
   "execution_count": 112,
   "metadata": {
    "collapsed": true
   },
   "outputs": [],
   "source": [
    "import random\n",
    "\n",
    "def exper_analysis(n):\n",
    "    results = [0]\n",
    "    acct = Counter()\n",
    "    for i in range(n):\n",
    "        if i>0:\n",
    "            l = list(range(i))\n",
    "            random.shuffle(l)\n",
    "            acct.reset()\n",
    "            acct_quicksort(l,0,len(l)-1, acct)\n",
    "            results.append(acct.steps)\n",
    "    return results"
   ]
  },
  {
   "cell_type": "code",
   "execution_count": 113,
   "metadata": {
    "collapsed": false
   },
   "outputs": [
    {
     "name": "stdout",
     "output_type": "stream",
     "text": [
      "[0, 4, 14, 30, 48, 82, 108, 110, 108, 140]\n"
     ]
    }
   ],
   "source": [
    "print (exper_analysis(10))"
   ]
  },
  {
   "cell_type": "markdown",
   "metadata": {},
   "source": [
    "Ahora vamos a analizar el tiempo del algoritmo cuando el tamaño de la entrada varía. La siguiente función genera arreglos al azar de tamaño 1 a n, llama la función acct_quicksort(l,0,len(l)-1, acct) y saca el tiempo que se demora el algoritmo."
   ]
  },
  {
   "cell_type": "code",
   "execution_count": 114,
   "metadata": {
    "collapsed": true
   },
   "outputs": [],
   "source": [
    "import time\n",
    "tic = time.clock()#get start time\n",
    "toc = time.clock()#get final time\n",
    "def timer_analysis(n):\n",
    "    results = [0]\n",
    "    acct = Counter()\n",
    "    for i in range(n):\n",
    "        if i>0:\n",
    "            l = list(range(i))\n",
    "            random.shuffle(l)\n",
    "            acct.reset()\n",
    "            tic = time.clock()\n",
    "            acct_quicksort(l,0,len(l)-1, acct)\n",
    "            toc = time.clock()\n",
    "            results.append((toc-tic))\n",
    "    return results"
   ]
  },
  {
   "cell_type": "markdown",
   "metadata": {},
   "source": [
    "La siguiente gráfica representa el número de operaciones (azul), tiempo (rojo) y T(n) (negro) que el algoritmo de quicksort requiere para ordenar arreglos de tamaño n (varie n) en el peor de los casos."
   ]
  },
  {
   "cell_type": "code",
   "execution_count": 128,
   "metadata": {
    "collapsed": false
   },
   "outputs": [
    {
     "data": {
      "image/png": "[encoded data removed]",
      "text/plain": [
       "<matplotlib.figure.Figure at 0x1816a044cc0>"
      ]
     },
     "metadata": {},
     "output_type": "display_data"
    }
   ],
   "source": [
    "import pylab \n",
    "import math\n",
    "pylab.clf()\n",
    "x = np.arange(100)\n",
    "y = np.array(timer_analysis(100))*800000\n",
    "\n",
    "a = np.arange(100)\n",
    "b = np.array(exper_analysis(100))\n",
    "\n",
    "c = np.arange(100)\n",
    "d = (c*c)\n",
    "\n",
    "pylab.plot(x, y, 'r-',a,b,'b-',c,d,'k.')\n",
    "pylab.show()"
   ]
  },
  {
   "cell_type": "code",
   "execution_count": null,
   "metadata": {
    "collapsed": true
   },
   "outputs": [],
   "source": []
  }
 ],
 "metadata": {
  "anaconda-cloud": {},
  "kernelspec": {
   "display_name": "Python [default]",
   "language": "python",
   "name": "python3"
  },
  "language_info": {
   "codemirror_mode": {
    "name": "ipython",
    "version": 3
   },
   "file_extension": ".py",
   "mimetype": "text/x-python",
   "name": "python",
   "nbconvert_exporter": "python",
   "pygments_lexer": "ipython3",
   "version": "3.5.2"
  }
 },
 "nbformat": 4,
 "nbformat_minor": 1
}
